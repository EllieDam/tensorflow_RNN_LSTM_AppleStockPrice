{
 "cells": [
  {
   "cell_type": "markdown",
   "metadata": {
    "id": "nuVsZdUSyB9m"
   },
   "source": [
    "# Question 5: RNN - LSTM\n",
    "- Use AAPL.csv dataset or dowload from link https://finance.yahoo.com/quote/AAPL/history?period1=1479081600&period2=1605312000&interval=1d&filter=history&frequency=1d&includeAdjustedClose=true\n",
    "- Requirement:\n",
    "  + Build a model to predict the tomorrow's Open value based on the today's Open, High, Low, Close, Adj Close, Volume"
   ]
  },
  {
   "cell_type": "markdown",
   "metadata": {
    "id": "6GQmivGEOEfh"
   },
   "source": [
    "# 0.Mount drive & Import packages"
   ]
  },
  {
   "cell_type": "code",
   "execution_count": null,
   "metadata": {
    "colab": {
     "base_uri": "https://localhost:8080/"
    },
    "executionInfo": {
     "elapsed": 4799,
     "status": "ok",
     "timestamp": 1636795401861,
     "user": {
      "displayName": "Phuong Dam",
      "photoUrl": "https://lh3.googleusercontent.com/a/default-user=s64",
      "userId": "01072403895711103873"
     },
     "user_tz": -420
    },
    "id": "GsCsMHCMlEUe",
    "outputId": "f8e8e23a-dfa7-4ec7-ba9e-3e83ee76f20e"
   },
   "outputs": [
    {
     "name": "stdout",
     "output_type": "stream",
     "text": [
      "Mounted at /content/gdrive\n"
     ]
    }
   ],
   "source": [
    "from google.colab import drive\n",
    "drive.mount(\"/content/gdrive\", force_remount=True)"
   ]
  },
  {
   "cell_type": "code",
   "execution_count": null,
   "metadata": {
    "colab": {
     "base_uri": "https://localhost:8080/"
    },
    "executionInfo": {
     "elapsed": 13,
     "status": "ok",
     "timestamp": 1636795401862,
     "user": {
      "displayName": "Phuong Dam",
      "photoUrl": "https://lh3.googleusercontent.com/a/default-user=s64",
      "userId": "01072403895711103873"
     },
     "user_tz": -420
    },
    "id": "4RdFcd2QlI_U",
    "outputId": "e5600809-13eb-4bb6-c822-a8319acb4f25"
   },
   "outputs": [
    {
     "name": "stdout",
     "output_type": "stream",
     "text": [
      "/content/gdrive/My Drive/LDS8_K270_ONLINE_DamThiMinhPhuong/LDS8_K270_DamThiMinhPhuong_Cuoi_ky/Question5_RNN\n"
     ]
    }
   ],
   "source": [
    "%cd '/content/gdrive/My Drive/LDS8_K270_ONLINE_DamThiMinhPhuong/LDS8_K270_DamThiMinhPhuong_Cuoi_ky/Question5_RNN'"
   ]
  },
  {
   "cell_type": "code",
   "execution_count": null,
   "metadata": {
    "id": "yankov73lvVo"
   },
   "outputs": [],
   "source": [
    "# LSTM for air pollution problem with regression framing\n",
    "import pandas as pd\n",
    "import numpy\n",
    "import math\n",
    "import matplotlib.pyplot as plt\n",
    "import seaborn as sns\n",
    "from tensorflow.keras import Sequential\n",
    "from tensorflow.keras.layers import Dense\n",
    "from tensorflow.keras.layers import LSTM\n",
    "from sklearn.preprocessing import MinMaxScaler, LabelEncoder\n",
    "from sklearn.metrics import mean_squared_error, mean_absolute_error\n",
    "from tensorflow.keras.callbacks import EarlyStopping  "
   ]
  },
  {
   "cell_type": "markdown",
   "metadata": {
    "id": "jmw_w3K4OMhG"
   },
   "source": [
    "# 1. Load & Prepare data"
   ]
  },
  {
   "cell_type": "code",
   "execution_count": null,
   "metadata": {
    "colab": {
     "base_uri": "https://localhost:8080/",
     "height": 235
    },
    "executionInfo": {
     "elapsed": 13,
     "status": "ok",
     "timestamp": 1636795405010,
     "user": {
      "displayName": "Phuong Dam",
      "photoUrl": "https://lh3.googleusercontent.com/a/default-user=s64",
      "userId": "01072403895711103873"
     },
     "user_tz": -420
    },
    "id": "aMq1u-OMmsf1",
    "outputId": "e3cbcb4b-0769-4b5f-b0c5-f3b87dc12d04"
   },
   "outputs": [
    {
     "data": {
      "text/html": [
       "<div>\n",
       "<style scoped>\n",
       "    .dataframe tbody tr th:only-of-type {\n",
       "        vertical-align: middle;\n",
       "    }\n",
       "\n",
       "    .dataframe tbody tr th {\n",
       "        vertical-align: top;\n",
       "    }\n",
       "\n",
       "    .dataframe thead th {\n",
       "        text-align: right;\n",
       "    }\n",
       "</style>\n",
       "<table border=\"1\" class=\"dataframe\">\n",
       "  <thead>\n",
       "    <tr style=\"text-align: right;\">\n",
       "      <th></th>\n",
       "      <th>Open</th>\n",
       "      <th>High</th>\n",
       "      <th>Low</th>\n",
       "      <th>Close</th>\n",
       "      <th>Adj Close</th>\n",
       "      <th>Volume</th>\n",
       "    </tr>\n",
       "    <tr>\n",
       "      <th>Date</th>\n",
       "      <th></th>\n",
       "      <th></th>\n",
       "      <th></th>\n",
       "      <th></th>\n",
       "      <th></th>\n",
       "      <th></th>\n",
       "    </tr>\n",
       "  </thead>\n",
       "  <tbody>\n",
       "    <tr>\n",
       "      <th>2016-11-14</th>\n",
       "      <td>26.927500</td>\n",
       "      <td>26.952499</td>\n",
       "      <td>26.020000</td>\n",
       "      <td>26.427500</td>\n",
       "      <td>24.825821</td>\n",
       "      <td>204702000</td>\n",
       "    </tr>\n",
       "    <tr>\n",
       "      <th>2016-11-15</th>\n",
       "      <td>26.642500</td>\n",
       "      <td>26.920000</td>\n",
       "      <td>26.540001</td>\n",
       "      <td>26.777500</td>\n",
       "      <td>25.154610</td>\n",
       "      <td>129058000</td>\n",
       "    </tr>\n",
       "    <tr>\n",
       "      <th>2016-11-16</th>\n",
       "      <td>26.674999</td>\n",
       "      <td>27.557501</td>\n",
       "      <td>26.650000</td>\n",
       "      <td>27.497499</td>\n",
       "      <td>25.830971</td>\n",
       "      <td>235362000</td>\n",
       "    </tr>\n",
       "    <tr>\n",
       "      <th>2016-11-17</th>\n",
       "      <td>27.452499</td>\n",
       "      <td>27.587500</td>\n",
       "      <td>27.207500</td>\n",
       "      <td>27.487499</td>\n",
       "      <td>25.821573</td>\n",
       "      <td>110528000</td>\n",
       "    </tr>\n",
       "    <tr>\n",
       "      <th>2016-11-18</th>\n",
       "      <td>27.430000</td>\n",
       "      <td>27.635000</td>\n",
       "      <td>27.415001</td>\n",
       "      <td>27.514999</td>\n",
       "      <td>25.847408</td>\n",
       "      <td>113715600</td>\n",
       "    </tr>\n",
       "  </tbody>\n",
       "</table>\n",
       "</div>"
      ],
      "text/plain": [
       "                 Open       High        Low      Close  Adj Close     Volume\n",
       "Date                                                                        \n",
       "2016-11-14  26.927500  26.952499  26.020000  26.427500  24.825821  204702000\n",
       "2016-11-15  26.642500  26.920000  26.540001  26.777500  25.154610  129058000\n",
       "2016-11-16  26.674999  27.557501  26.650000  27.497499  25.830971  235362000\n",
       "2016-11-17  27.452499  27.587500  27.207500  27.487499  25.821573  110528000\n",
       "2016-11-18  27.430000  27.635000  27.415001  27.514999  25.847408  113715600"
      ]
     },
     "execution_count": 4,
     "metadata": {},
     "output_type": "execute_result"
    }
   ],
   "source": [
    "#load dataset\n",
    "dataset= pd.read_csv('AAPL.csv', index_col=0)\n",
    "dataset.head()"
   ]
  },
  {
   "cell_type": "code",
   "execution_count": null,
   "metadata": {
    "colab": {
     "base_uri": "https://localhost:8080/"
    },
    "executionInfo": {
     "elapsed": 10,
     "status": "ok",
     "timestamp": 1636795405010,
     "user": {
      "displayName": "Phuong Dam",
      "photoUrl": "https://lh3.googleusercontent.com/a/default-user=s64",
      "userId": "01072403895711103873"
     },
     "user_tz": -420
    },
    "id": "ygeLaSkfEaPs",
    "outputId": "ea30d504-2a42-492e-fe45-99158804feff"
   },
   "outputs": [
    {
     "name": "stdout",
     "output_type": "stream",
     "text": [
      "<class 'pandas.core.frame.DataFrame'>\n",
      "Index: 1008 entries, 2016-11-14 to 2020-11-13\n",
      "Data columns (total 6 columns):\n",
      " #   Column     Non-Null Count  Dtype  \n",
      "---  ------     --------------  -----  \n",
      " 0   Open       1008 non-null   float64\n",
      " 1   High       1008 non-null   float64\n",
      " 2   Low        1008 non-null   float64\n",
      " 3   Close      1008 non-null   float64\n",
      " 4   Adj Close  1008 non-null   float64\n",
      " 5   Volume     1008 non-null   int64  \n",
      "dtypes: float64(5), int64(1)\n",
      "memory usage: 55.1+ KB\n"
     ]
    }
   ],
   "source": [
    "dataset.info()"
   ]
  },
  {
   "cell_type": "code",
   "execution_count": null,
   "metadata": {
    "colab": {
     "base_uri": "https://localhost:8080/",
     "height": 297
    },
    "executionInfo": {
     "elapsed": 6,
     "status": "ok",
     "timestamp": 1636795405010,
     "user": {
      "displayName": "Phuong Dam",
      "photoUrl": "https://lh3.googleusercontent.com/a/default-user=s64",
      "userId": "01072403895711103873"
     },
     "user_tz": -420
    },
    "id": "evsUOvqwEmiw",
    "outputId": "93b23b83-1dcc-4f70-b5e0-6363cd30c8dd"
   },
   "outputs": [
    {
     "data": {
      "text/html": [
       "<div>\n",
       "<style scoped>\n",
       "    .dataframe tbody tr th:only-of-type {\n",
       "        vertical-align: middle;\n",
       "    }\n",
       "\n",
       "    .dataframe tbody tr th {\n",
       "        vertical-align: top;\n",
       "    }\n",
       "\n",
       "    .dataframe thead th {\n",
       "        text-align: right;\n",
       "    }\n",
       "</style>\n",
       "<table border=\"1\" class=\"dataframe\">\n",
       "  <thead>\n",
       "    <tr style=\"text-align: right;\">\n",
       "      <th></th>\n",
       "      <th>Open</th>\n",
       "      <th>High</th>\n",
       "      <th>Low</th>\n",
       "      <th>Close</th>\n",
       "      <th>Adj Close</th>\n",
       "      <th>Volume</th>\n",
       "    </tr>\n",
       "  </thead>\n",
       "  <tbody>\n",
       "    <tr>\n",
       "      <th>count</th>\n",
       "      <td>1008.000000</td>\n",
       "      <td>1008.000000</td>\n",
       "      <td>1008.000000</td>\n",
       "      <td>1008.000000</td>\n",
       "      <td>1008.000000</td>\n",
       "      <td>1.008000e+03</td>\n",
       "    </tr>\n",
       "    <tr>\n",
       "      <th>mean</th>\n",
       "      <td>55.022847</td>\n",
       "      <td>55.634645</td>\n",
       "      <td>54.439440</td>\n",
       "      <td>55.068780</td>\n",
       "      <td>53.661965</td>\n",
       "      <td>1.279139e+08</td>\n",
       "    </tr>\n",
       "    <tr>\n",
       "      <th>std</th>\n",
       "      <td>22.808228</td>\n",
       "      <td>23.199504</td>\n",
       "      <td>22.329356</td>\n",
       "      <td>22.778370</td>\n",
       "      <td>23.265842</td>\n",
       "      <td>5.914382e+07</td>\n",
       "    </tr>\n",
       "    <tr>\n",
       "      <th>min</th>\n",
       "      <td>26.642500</td>\n",
       "      <td>26.920000</td>\n",
       "      <td>26.020000</td>\n",
       "      <td>26.427500</td>\n",
       "      <td>24.825821</td>\n",
       "      <td>2.880380e+07</td>\n",
       "    </tr>\n",
       "    <tr>\n",
       "      <th>25%</th>\n",
       "      <td>39.973123</td>\n",
       "      <td>40.278123</td>\n",
       "      <td>39.636251</td>\n",
       "      <td>39.968751</td>\n",
       "      <td>38.069605</td>\n",
       "      <td>8.788140e+07</td>\n",
       "    </tr>\n",
       "    <tr>\n",
       "      <th>50%</th>\n",
       "      <td>47.244999</td>\n",
       "      <td>47.631248</td>\n",
       "      <td>46.872500</td>\n",
       "      <td>47.197500</td>\n",
       "      <td>45.769047</td>\n",
       "      <td>1.118354e+08</td>\n",
       "    </tr>\n",
       "    <tr>\n",
       "      <th>75%</th>\n",
       "      <td>61.968749</td>\n",
       "      <td>63.971249</td>\n",
       "      <td>61.203751</td>\n",
       "      <td>62.090624</td>\n",
       "      <td>61.046269</td>\n",
       "      <td>1.499102e+08</td>\n",
       "    </tr>\n",
       "    <tr>\n",
       "      <th>max</th>\n",
       "      <td>137.589996</td>\n",
       "      <td>137.979996</td>\n",
       "      <td>130.529999</td>\n",
       "      <td>134.179993</td>\n",
       "      <td>133.948898</td>\n",
       "      <td>4.479400e+08</td>\n",
       "    </tr>\n",
       "  </tbody>\n",
       "</table>\n",
       "</div>"
      ],
      "text/plain": [
       "              Open         High  ...    Adj Close        Volume\n",
       "count  1008.000000  1008.000000  ...  1008.000000  1.008000e+03\n",
       "mean     55.022847    55.634645  ...    53.661965  1.279139e+08\n",
       "std      22.808228    23.199504  ...    23.265842  5.914382e+07\n",
       "min      26.642500    26.920000  ...    24.825821  2.880380e+07\n",
       "25%      39.973123    40.278123  ...    38.069605  8.788140e+07\n",
       "50%      47.244999    47.631248  ...    45.769047  1.118354e+08\n",
       "75%      61.968749    63.971249  ...    61.046269  1.499102e+08\n",
       "max     137.589996   137.979996  ...   133.948898  4.479400e+08\n",
       "\n",
       "[8 rows x 6 columns]"
      ]
     },
     "execution_count": 6,
     "metadata": {},
     "output_type": "execute_result"
    }
   ],
   "source": [
    "dataset.describe()"
   ]
  },
  {
   "cell_type": "code",
   "execution_count": null,
   "metadata": {
    "colab": {
     "base_uri": "https://localhost:8080/",
     "height": 1000
    },
    "executionInfo": {
     "elapsed": 2240,
     "status": "ok",
     "timestamp": 1636795407245,
     "user": {
      "displayName": "Phuong Dam",
      "photoUrl": "https://lh3.googleusercontent.com/a/default-user=s64",
      "userId": "01072403895711103873"
     },
     "user_tz": -420
    },
    "id": "R9OLCeM_m7cG",
    "outputId": "1aaae52c-8952-48b9-ba46-79c48785718d"
   },
   "outputs": [
    {
     "data": {
      "image/png": "[encoded data removed]",
      "text/plain": [
       "<Figure size 1440x1440 with 6 Axes>"
      ]
     },
     "metadata": {
      "needs_background": "light"
     },
     "output_type": "display_data"
    }
   ],
   "source": [
    "values = dataset.values\n",
    "# specific column to plot\n",
    "groups = [0,1,2,3,4,5]   \n",
    "i = 1\n",
    "# plot each column\n",
    "plt.figure(figsize=(20,20))\n",
    "for group in groups:\n",
    "  plt.subplot(len(groups),1,i)\n",
    "  plt.plot(values[:,group])\n",
    "  plt.title(dataset.columns[group], y=0.5, loc='left')\n",
    "  i+=1\n",
    "plt.show()"
   ]
  },
  {
   "cell_type": "code",
   "execution_count": null,
   "metadata": {
    "id": "9dKFt-BdNMbv"
   },
   "outputs": [],
   "source": [
    "# convert series to supervised learning\n",
    "def series_to_supervised(data, n_in=1, n_out=1, dropnan=True):\n",
    "\tn_vars = 1 if type(data) is list else data.shape[1]\n",
    "\tdf = pd.DataFrame(data)\n",
    "\tcols, names = list(), list()\n",
    "\t# input sequence (t-n, ... t-1)\n",
    "\tfor i in range(n_in, 0, -1):\n",
    "\t\tcols.append(df.shift(i))        \n",
    "\t\tnames += [('var%d(t-%d)' % (j+1, i)) for j in range(n_vars)]\n",
    "\t# forecast sequence (t, t+1, ... t+n)\n",
    "\tfor i in range(0, n_out):\n",
    "\t\tcols.append(df.shift(-i))\n",
    "\t\tif i == 0:\n",
    "\t\t\tnames += [('var%d(t)' % (j+1)) for j in range(n_vars)]\n",
    "\t\telse:\n",
    "\t\t\tnames += [('var%d(t+%d)' % (j+1, i)) for j in range(n_vars)]\n",
    "\t# put it all together\n",
    "\tagg = pd.concat(cols, axis=1)\n",
    "\tagg.columns = names\n",
    "\t# drop rows with NaN values\n",
    "\tif dropnan:\n",
    "\t\tagg.dropna(inplace=True) # kết quả sau khi drop gán luôn vào agg\n",
    "\treturn agg\n"
   ]
  },
  {
   "cell_type": "code",
   "execution_count": null,
   "metadata": {
    "colab": {
     "base_uri": "https://localhost:8080/"
    },
    "executionInfo": {
     "elapsed": 18,
     "status": "ok",
     "timestamp": 1636795407246,
     "user": {
      "displayName": "Phuong Dam",
      "photoUrl": "https://lh3.googleusercontent.com/a/default-user=s64",
      "userId": "01072403895711103873"
     },
     "user_tz": -420
    },
    "id": "FmYWfNUgNMYx",
    "outputId": "9ce99a1f-77fc-4617-d991-e6ac7a6d9f16"
   },
   "outputs": [
    {
     "name": "stdout",
     "output_type": "stream",
     "text": [
      "Frame as Series:\n",
      "[[2.56878262e-03 2.92625618e-04 0.00000000e+00 0.00000000e+00\n",
      "  0.00000000e+00 4.19668356e-01]\n",
      " [0.00000000e+00 0.00000000e+00 4.97561004e-03 3.24818471e-03\n",
      "  3.01301071e-03 2.39192415e-01]\n",
      " [2.92922339e-04 5.74014968e-03 6.02813134e-03 9.93015540e-03\n",
      "  9.21115888e-03 4.92818802e-01]\n",
      " [7.30074160e-03 6.01026494e-03 1.13625491e-02 9.83735012e-03\n",
      "  9.12503594e-03 1.94982442e-01]\n",
      " [7.09795199e-03 6.43796169e-03 1.33480147e-02 1.00925646e-02\n",
      "  9.36178697e-03 2.02587608e-01]]\n",
      "Frame as supervised learning:\n",
      "   var1(t-1)  var2(t-1)  var3(t-1)  ...   var4(t)   var5(t)   var6(t)\n",
      "1   0.002569   0.000293   0.000000  ...  0.003248  0.003013  0.239192\n",
      "2   0.000000   0.000000   0.004976  ...  0.009930  0.009211  0.492819\n",
      "3   0.000293   0.005740   0.006028  ...  0.009837  0.009125  0.194982\n",
      "4   0.007301   0.006010   0.011363  ...  0.010093  0.009362  0.202588\n",
      "5   0.007098   0.006438   0.013348  ...  0.013967  0.012956  0.210563\n",
      "\n",
      "[5 rows x 12 columns]\n"
     ]
    }
   ],
   "source": [
    "# Normalize feature\n",
    "scaler = MinMaxScaler(feature_range=(0,1))\n",
    "scaler.fit(values)\n",
    "scaled = scaler.transform(values)\n",
    "print('Frame as Series:')\n",
    "print(scaled[:5])\n",
    "# Frame as supervised learning \n",
    "reframed = series_to_supervised(scaled,1)\n",
    "print('Frame as supervised learning:')\n",
    "print(reframed.head())"
   ]
  },
  {
   "cell_type": "code",
   "execution_count": null,
   "metadata": {
    "colab": {
     "base_uri": "https://localhost:8080/",
     "height": 258
    },
    "executionInfo": {
     "elapsed": 16,
     "status": "ok",
     "timestamp": 1636795407246,
     "user": {
      "displayName": "Phuong Dam",
      "photoUrl": "https://lh3.googleusercontent.com/a/default-user=s64",
      "userId": "01072403895711103873"
     },
     "user_tz": -420
    },
    "id": "fLRFzfMxRzrX",
    "outputId": "31d1b17c-30ab-4c49-8b9e-7b74929a5acc"
   },
   "outputs": [
    {
     "name": "stdout",
     "output_type": "stream",
     "text": [
      "Frame will use:\n"
     ]
    },
    {
     "data": {
      "text/html": [
       "<div>\n",
       "<style scoped>\n",
       "    .dataframe tbody tr th:only-of-type {\n",
       "        vertical-align: middle;\n",
       "    }\n",
       "\n",
       "    .dataframe tbody tr th {\n",
       "        vertical-align: top;\n",
       "    }\n",
       "\n",
       "    .dataframe thead th {\n",
       "        text-align: right;\n",
       "    }\n",
       "</style>\n",
       "<table border=\"1\" class=\"dataframe\">\n",
       "  <thead>\n",
       "    <tr style=\"text-align: right;\">\n",
       "      <th></th>\n",
       "      <th>var1(t-1)</th>\n",
       "      <th>var2(t-1)</th>\n",
       "      <th>var3(t-1)</th>\n",
       "      <th>var4(t-1)</th>\n",
       "      <th>var5(t-1)</th>\n",
       "      <th>var6(t-1)</th>\n",
       "      <th>var1(t)</th>\n",
       "    </tr>\n",
       "  </thead>\n",
       "  <tbody>\n",
       "    <tr>\n",
       "      <th>1</th>\n",
       "      <td>0.002569</td>\n",
       "      <td>0.000293</td>\n",
       "      <td>0.000000</td>\n",
       "      <td>0.000000</td>\n",
       "      <td>0.000000</td>\n",
       "      <td>0.419668</td>\n",
       "      <td>0.000000</td>\n",
       "    </tr>\n",
       "    <tr>\n",
       "      <th>2</th>\n",
       "      <td>0.000000</td>\n",
       "      <td>0.000000</td>\n",
       "      <td>0.004976</td>\n",
       "      <td>0.003248</td>\n",
       "      <td>0.003013</td>\n",
       "      <td>0.239192</td>\n",
       "      <td>0.000293</td>\n",
       "    </tr>\n",
       "    <tr>\n",
       "      <th>3</th>\n",
       "      <td>0.000293</td>\n",
       "      <td>0.005740</td>\n",
       "      <td>0.006028</td>\n",
       "      <td>0.009930</td>\n",
       "      <td>0.009211</td>\n",
       "      <td>0.492819</td>\n",
       "      <td>0.007301</td>\n",
       "    </tr>\n",
       "    <tr>\n",
       "      <th>4</th>\n",
       "      <td>0.007301</td>\n",
       "      <td>0.006010</td>\n",
       "      <td>0.011363</td>\n",
       "      <td>0.009837</td>\n",
       "      <td>0.009125</td>\n",
       "      <td>0.194982</td>\n",
       "      <td>0.007098</td>\n",
       "    </tr>\n",
       "    <tr>\n",
       "      <th>5</th>\n",
       "      <td>0.007098</td>\n",
       "      <td>0.006438</td>\n",
       "      <td>0.013348</td>\n",
       "      <td>0.010093</td>\n",
       "      <td>0.009362</td>\n",
       "      <td>0.202588</td>\n",
       "      <td>0.007999</td>\n",
       "    </tr>\n",
       "  </tbody>\n",
       "</table>\n",
       "</div>"
      ],
      "text/plain": [
       "   var1(t-1)  var2(t-1)  var3(t-1)  var4(t-1)  var5(t-1)  var6(t-1)   var1(t)\n",
       "1   0.002569   0.000293   0.000000   0.000000   0.000000   0.419668  0.000000\n",
       "2   0.000000   0.000000   0.004976   0.003248   0.003013   0.239192  0.000293\n",
       "3   0.000293   0.005740   0.006028   0.009930   0.009211   0.492819  0.007301\n",
       "4   0.007301   0.006010   0.011363   0.009837   0.009125   0.194982  0.007098\n",
       "5   0.007098   0.006438   0.013348   0.010093   0.009362   0.202588  0.007999"
      ]
     },
     "execution_count": 10,
     "metadata": {},
     "output_type": "execute_result"
    }
   ],
   "source": [
    "# Vì chỉ predict var1(t), còn từ var2(t) trở đi không dự đoán nên drop\n",
    "# giữ các cột từ 0-6 (6 cột đầu là inpus, cột cuối là output)\n",
    "reframed.drop(reframed.columns[[7,8,9,10,11]], axis=1, inplace=True)\n",
    "print('Frame will use:')\n",
    "reframed.head()"
   ]
  },
  {
   "cell_type": "code",
   "execution_count": null,
   "metadata": {
    "colab": {
     "base_uri": "https://localhost:8080/"
    },
    "executionInfo": {
     "elapsed": 15,
     "status": "ok",
     "timestamp": 1636795407246,
     "user": {
      "displayName": "Phuong Dam",
      "photoUrl": "https://lh3.googleusercontent.com/a/default-user=s64",
      "userId": "01072403895711103873"
     },
     "user_tz": -420
    },
    "id": "Ma7N_WGnYmII",
    "outputId": "f1a9ac93-9f50-48aa-fe1d-6ddde5fd9c00"
   },
   "outputs": [
    {
     "name": "stdout",
     "output_type": "stream",
     "text": [
      "Before reshape:\n",
      "(730, 6) (730,) (277, 6) (277,)\n"
     ]
    }
   ],
   "source": [
    "# Split into train/ test\n",
    "values = reframed.values \n",
    "n_train_hours = 365 * 2 #dữ liệu theo ngày, lấy 2 năm đầu để train\n",
    "train = values[:n_train_hours,:]\n",
    "test = values[n_train_hours:,:]\n",
    "# Split into input/output\n",
    "trainX, trainY = train[:,:-1], train[:,-1]\n",
    "testX, testY = test[:,:-1], test[:,-1]\n",
    "print('Before reshape:')\n",
    "print(trainX.shape, trainY.shape, testX.shape, testY.shape)"
   ]
  },
  {
   "cell_type": "code",
   "execution_count": null,
   "metadata": {
    "colab": {
     "base_uri": "https://localhost:8080/"
    },
    "executionInfo": {
     "elapsed": 13,
     "status": "ok",
     "timestamp": 1636795407246,
     "user": {
      "displayName": "Phuong Dam",
      "photoUrl": "https://lh3.googleusercontent.com/a/default-user=s64",
      "userId": "01072403895711103873"
     },
     "user_tz": -420
    },
    "id": "ZJOzjD8Oav5U",
    "outputId": "de59e0a7-675a-42c8-e737-cb042ef4f4da"
   },
   "outputs": [
    {
     "name": "stdout",
     "output_type": "stream",
     "text": [
      "After reshape:\n",
      "(730, 1, 6) (730,) (277, 1, 6) (277,)\n"
     ]
    }
   ],
   "source": [
    "# Reshape input to be 3D [samples, timesteps, features]\n",
    "trainX = trainX.reshape(trainX.shape[0],1,trainX.shape[1])\n",
    "testX = testX.reshape(testX.shape[0],1,testX.shape[1])\n",
    "print('After reshape:')\n",
    "print(trainX.shape, trainY.shape, testX.shape, testY.shape)"
   ]
  },
  {
   "cell_type": "markdown",
   "metadata": {
    "id": "2Hb7B-GtOXaO"
   },
   "source": [
    "# 2. Build RNN netwỏk"
   ]
  },
  {
   "cell_type": "markdown",
   "metadata": {
    "id": "7QpYGFojm_7n"
   },
   "source": [
    "### 2.1 Model 1"
   ]
  },
  {
   "cell_type": "code",
   "execution_count": null,
   "metadata": {
    "colab": {
     "base_uri": "https://localhost:8080/"
    },
    "executionInfo": {
     "elapsed": 13,
     "status": "ok",
     "timestamp": 1636795407247,
     "user": {
      "displayName": "Phuong Dam",
      "photoUrl": "https://lh3.googleusercontent.com/a/default-user=s64",
      "userId": "01072403895711103873"
     },
     "user_tz": -420
    },
    "id": "y22gi88SxYJo",
    "outputId": "55f9682d-3188-4cc0-d3dc-bb86fb8e6a50"
   },
   "outputs": [
    {
     "name": "stdout",
     "output_type": "stream",
     "text": [
      "Model: \"sequential\"\n",
      "_________________________________________________________________\n",
      " Layer (type)                Output Shape              Param #   \n",
      "=================================================================\n",
      " lstm (LSTM)                 (None, 32)                4992      \n",
      "                                                                 \n",
      " dense (Dense)               (None, 1)                 33        \n",
      "                                                                 \n",
      "=================================================================\n",
      "Total params: 5,025\n",
      "Trainable params: 5,025\n",
      "Non-trainable params: 0\n",
      "_________________________________________________________________\n"
     ]
    }
   ],
   "source": [
    "# Build network\n",
    "model = Sequential()\n",
    "model.add(LSTM(32, input_shape=(trainX.shape[1], trainX.shape[2])))  \n",
    "model.add(Dense(1))\n",
    "\n",
    "model.summary()"
   ]
  },
  {
   "cell_type": "code",
   "execution_count": null,
   "metadata": {
    "colab": {
     "base_uri": "https://localhost:8080/",
     "height": 312
    },
    "executionInfo": {
     "elapsed": 11,
     "status": "ok",
     "timestamp": 1636795407247,
     "user": {
      "displayName": "Phuong Dam",
      "photoUrl": "https://lh3.googleusercontent.com/a/default-user=s64",
      "userId": "01072403895711103873"
     },
     "user_tz": -420
    },
    "id": "2yOZX6f4keoY",
    "outputId": "1e4b5dc5-17aa-454f-ef21-e991da4517ba"
   },
   "outputs": [
    {
     "data": {
      "image/png": "[encoded data removed]",
      "text/plain": [
       "<IPython.core.display.Image object>"
      ]
     },
     "execution_count": 15,
     "metadata": {},
     "output_type": "execute_result"
    }
   ],
   "source": [
    "from tensorflow.keras.utils import plot_model\n",
    "from IPython.display import Image\n",
    "plot_model(model, to_file='AAPL_manyTo1_model1.png', show_shapes=True)\n",
    "Image(filename='AAPL_manyTo1_model1.png')"
   ]
  },
  {
   "cell_type": "code",
   "execution_count": null,
   "metadata": {
    "id": "Mv5xerzDyuCA"
   },
   "outputs": [],
   "source": [
    "model.compile(loss='mae', optimizer='adam')"
   ]
  },
  {
   "cell_type": "code",
   "execution_count": null,
   "metadata": {
    "id": "p3XRlqqGyv6f"
   },
   "outputs": [],
   "source": [
    "# Early Stopping \n",
    "early_stopping = EarlyStopping(monitor='val_loss',\n",
    "                               min_delta=0.0001, # minimium amount of change to count as an improvement     \n",
    "                               patience=20, # how many epochs to wait before stopping     \n",
    "                               restore_best_weights=True, )"
   ]
  },
  {
   "cell_type": "code",
   "execution_count": null,
   "metadata": {
    "collapsed": true,
    "id": "GiVdz8NEzLsV"
   },
   "outputs": [],
   "source": [
    "history = model.fit(trainX, trainY, \n",
    "                    validation_data=(testX, testY),\n",
    "                    epochs=50,\n",
    "                    batch_size=64,\n",
    "                    callbacks=early_stopping,\n",
    "                    verbose=0\n",
    "                    )"
   ]
  },
  {
   "cell_type": "code",
   "execution_count": null,
   "metadata": {
    "colab": {
     "base_uri": "https://localhost:8080/",
     "height": 204
    },
    "executionInfo": {
     "elapsed": 10,
     "status": "ok",
     "timestamp": 1636795411406,
     "user": {
      "displayName": "Phuong Dam",
      "photoUrl": "https://lh3.googleusercontent.com/a/default-user=s64",
      "userId": "01072403895711103873"
     },
     "user_tz": -420
    },
    "id": "LbR0Y3CXkxCk",
    "outputId": "1245e273-4bea-4016-8e31-0c11530a2411"
   },
   "outputs": [
    {
     "data": {
      "text/html": [
       "<div>\n",
       "<style scoped>\n",
       "    .dataframe tbody tr th:only-of-type {\n",
       "        vertical-align: middle;\n",
       "    }\n",
       "\n",
       "    .dataframe tbody tr th {\n",
       "        vertical-align: top;\n",
       "    }\n",
       "\n",
       "    .dataframe thead th {\n",
       "        text-align: right;\n",
       "    }\n",
       "</style>\n",
       "<table border=\"1\" class=\"dataframe\">\n",
       "  <thead>\n",
       "    <tr style=\"text-align: right;\">\n",
       "      <th></th>\n",
       "      <th>loss</th>\n",
       "      <th>val_loss</th>\n",
       "    </tr>\n",
       "  </thead>\n",
       "  <tbody>\n",
       "    <tr>\n",
       "      <th>25</th>\n",
       "      <td>0.003392</td>\n",
       "      <td>0.039561</td>\n",
       "    </tr>\n",
       "    <tr>\n",
       "      <th>26</th>\n",
       "      <td>0.003370</td>\n",
       "      <td>0.032946</td>\n",
       "    </tr>\n",
       "    <tr>\n",
       "      <th>27</th>\n",
       "      <td>0.003338</td>\n",
       "      <td>0.035746</td>\n",
       "    </tr>\n",
       "    <tr>\n",
       "      <th>28</th>\n",
       "      <td>0.003261</td>\n",
       "      <td>0.031930</td>\n",
       "    </tr>\n",
       "    <tr>\n",
       "      <th>29</th>\n",
       "      <td>0.003292</td>\n",
       "      <td>0.030444</td>\n",
       "    </tr>\n",
       "  </tbody>\n",
       "</table>\n",
       "</div>"
      ],
      "text/plain": [
       "        loss  val_loss\n",
       "25  0.003392  0.039561\n",
       "26  0.003370  0.032946\n",
       "27  0.003338  0.035746\n",
       "28  0.003261  0.031930\n",
       "29  0.003292  0.030444"
      ]
     },
     "execution_count": 19,
     "metadata": {},
     "output_type": "execute_result"
    }
   ],
   "source": [
    "history_df = pd.DataFrame(history.history)\n",
    "history_df.tail()"
   ]
  },
  {
   "cell_type": "code",
   "execution_count": null,
   "metadata": {
    "colab": {
     "base_uri": "https://localhost:8080/",
     "height": 269
    },
    "executionInfo": {
     "elapsed": 8,
     "status": "ok",
     "timestamp": 1636795411406,
     "user": {
      "displayName": "Phuong Dam",
      "photoUrl": "https://lh3.googleusercontent.com/a/default-user=s64",
      "userId": "01072403895711103873"
     },
     "user_tz": -420
    },
    "id": "quzVVIRZ0IAR",
    "outputId": "01bfcf4c-63c8-4384-b137-1c5ed3cb3aa6"
   },
   "outputs": [
    {
     "data": {
      "image/png": "[encoded data removed]",
      "text/plain": [
       "<Figure size 432x288 with 1 Axes>"
      ]
     },
     "metadata": {
      "needs_background": "light"
     },
     "output_type": "display_data"
    }
   ],
   "source": [
    "# plot history \n",
    "plt.plot(history.history['loss'], label='train') \n",
    "plt.plot(history.history['val_loss'], label='test') \n",
    "plt.legend() \n",
    "plt.show()"
   ]
  },
  {
   "cell_type": "markdown",
   "metadata": {
    "id": "ztyZG1Jcldva"
   },
   "source": [
    "### 2.2 Model 2"
   ]
  },
  {
   "cell_type": "code",
   "execution_count": null,
   "metadata": {
    "colab": {
     "base_uri": "https://localhost:8080/"
    },
    "executionInfo": {
     "elapsed": 776,
     "status": "ok",
     "timestamp": 1636795412175,
     "user": {
      "displayName": "Phuong Dam",
      "photoUrl": "https://lh3.googleusercontent.com/a/default-user=s64",
      "userId": "01072403895711103873"
     },
     "user_tz": -420
    },
    "id": "dcuyKkXfldbr",
    "outputId": "bcfff4bd-5d99-4431-c2e4-422f44f030c6"
   },
   "outputs": [
    {
     "name": "stdout",
     "output_type": "stream",
     "text": [
      "Model: \"sequential_1\"\n",
      "_________________________________________________________________\n",
      " Layer (type)                Output Shape              Param #   \n",
      "=================================================================\n",
      " lstm_1 (LSTM)               (None, 128)               69120     \n",
      "                                                                 \n",
      " dense_1 (Dense)             (None, 1)                 129       \n",
      "                                                                 \n",
      "=================================================================\n",
      "Total params: 69,249\n",
      "Trainable params: 69,249\n",
      "Non-trainable params: 0\n",
      "_________________________________________________________________\n"
     ]
    }
   ],
   "source": [
    "model2 = Sequential()\n",
    "model2.add(LSTM(128, input_shape=(trainX.shape[1], trainX.shape[2])))  \n",
    "model2.add(Dense(1))\n",
    "\n",
    "model2.summary()"
   ]
  },
  {
   "cell_type": "code",
   "execution_count": null,
   "metadata": {
    "colab": {
     "base_uri": "https://localhost:8080/",
     "height": 312
    },
    "executionInfo": {
     "elapsed": 9,
     "status": "ok",
     "timestamp": 1636795412176,
     "user": {
      "displayName": "Phuong Dam",
      "photoUrl": "https://lh3.googleusercontent.com/a/default-user=s64",
      "userId": "01072403895711103873"
     },
     "user_tz": -420
    },
    "id": "0zAqhipolmMz",
    "outputId": "42d77e36-5490-4820-c507-4e3dc22fee22"
   },
   "outputs": [
    {
     "data": {
      "image/png": "[encoded data removed]",
      "text/plain": [
       "<IPython.core.display.Image object>"
      ]
     },
     "execution_count": 22,
     "metadata": {},
     "output_type": "execute_result"
    }
   ],
   "source": [
    "from tensorflow.keras.utils import plot_model\n",
    "from IPython.display import Image\n",
    "plot_model(model2, to_file='AAPL_manyTo1_model2.png', show_shapes=True)\n",
    "Image(filename='AAPL_manyTo1_model2.png')"
   ]
  },
  {
   "cell_type": "code",
   "execution_count": null,
   "metadata": {
    "id": "e2W7-IuJlmG3"
   },
   "outputs": [],
   "source": [
    "model2.compile(loss='mae', optimizer='adam')"
   ]
  },
  {
   "cell_type": "code",
   "execution_count": null,
   "metadata": {
    "id": "G9Dsv4m-lmC-"
   },
   "outputs": [],
   "source": [
    "history2 = model2.fit(trainX, trainY, \n",
    "                    validation_data=(testX, testY),\n",
    "                    epochs=50,\n",
    "                    batch_size=128,\n",
    "                    callbacks=early_stopping,\n",
    "                    verbose=0\n",
    "                    )"
   ]
  },
  {
   "cell_type": "code",
   "execution_count": null,
   "metadata": {
    "colab": {
     "base_uri": "https://localhost:8080/",
     "height": 204
    },
    "executionInfo": {
     "elapsed": 13,
     "status": "ok",
     "timestamp": 1636795416690,
     "user": {
      "displayName": "Phuong Dam",
      "photoUrl": "https://lh3.googleusercontent.com/a/default-user=s64",
      "userId": "01072403895711103873"
     },
     "user_tz": -420
    },
    "id": "b4MNnD54l7Wd",
    "outputId": "f6f32cb6-26f8-4c09-b622-76fcd84c7ad0"
   },
   "outputs": [
    {
     "data": {
      "text/html": [
       "<div>\n",
       "<style scoped>\n",
       "    .dataframe tbody tr th:only-of-type {\n",
       "        vertical-align: middle;\n",
       "    }\n",
       "\n",
       "    .dataframe tbody tr th {\n",
       "        vertical-align: top;\n",
       "    }\n",
       "\n",
       "    .dataframe thead th {\n",
       "        text-align: right;\n",
       "    }\n",
       "</style>\n",
       "<table border=\"1\" class=\"dataframe\">\n",
       "  <thead>\n",
       "    <tr style=\"text-align: right;\">\n",
       "      <th></th>\n",
       "      <th>loss</th>\n",
       "      <th>val_loss</th>\n",
       "    </tr>\n",
       "  </thead>\n",
       "  <tbody>\n",
       "    <tr>\n",
       "      <th>26</th>\n",
       "      <td>0.003011</td>\n",
       "      <td>0.027715</td>\n",
       "    </tr>\n",
       "    <tr>\n",
       "      <th>27</th>\n",
       "      <td>0.003041</td>\n",
       "      <td>0.027465</td>\n",
       "    </tr>\n",
       "    <tr>\n",
       "      <th>28</th>\n",
       "      <td>0.003033</td>\n",
       "      <td>0.027763</td>\n",
       "    </tr>\n",
       "    <tr>\n",
       "      <th>29</th>\n",
       "      <td>0.003000</td>\n",
       "      <td>0.027017</td>\n",
       "    </tr>\n",
       "    <tr>\n",
       "      <th>30</th>\n",
       "      <td>0.003074</td>\n",
       "      <td>0.025700</td>\n",
       "    </tr>\n",
       "  </tbody>\n",
       "</table>\n",
       "</div>"
      ],
      "text/plain": [
       "        loss  val_loss\n",
       "26  0.003011  0.027715\n",
       "27  0.003041  0.027465\n",
       "28  0.003033  0.027763\n",
       "29  0.003000  0.027017\n",
       "30  0.003074  0.025700"
      ]
     },
     "execution_count": 25,
     "metadata": {},
     "output_type": "execute_result"
    }
   ],
   "source": [
    "history2_df = pd.DataFrame(history2.history)\n",
    "history2_df.tail()"
   ]
  },
  {
   "cell_type": "code",
   "execution_count": null,
   "metadata": {
    "colab": {
     "base_uri": "https://localhost:8080/",
     "height": 265
    },
    "executionInfo": {
     "elapsed": 2808,
     "status": "ok",
     "timestamp": 1636795419491,
     "user": {
      "displayName": "Phuong Dam",
      "photoUrl": "https://lh3.googleusercontent.com/a/default-user=s64",
      "userId": "01072403895711103873"
     },
     "user_tz": -420
    },
    "id": "2MFNlCTlmHKH",
    "outputId": "410eb3b5-8555-45cb-ea4b-dfae6d7464a9"
   },
   "outputs": [
    {
     "data": {
      "image/png": "[encoded data removed]",
      "text/plain": [
       "<Figure size 432x288 with 1 Axes>"
      ]
     },
     "metadata": {
      "needs_background": "light"
     },
     "output_type": "display_data"
    }
   ],
   "source": [
    "# plot history \n",
    "plt.plot(history2.history['loss'], label='train') \n",
    "plt.plot(history2.history['val_loss'], label='test') \n",
    "plt.legend() \n",
    "plt.show()"
   ]
  },
  {
   "cell_type": "markdown",
   "metadata": {
    "id": "ThrPupqPnQg3"
   },
   "source": [
    "### Nhận xét:\n",
    "- Model2 cho loss & val_loss thấp hơn Model 1 nên chọn Model 2"
   ]
  },
  {
   "cell_type": "markdown",
   "metadata": {
    "id": "liqWfIGOmiAr"
   },
   "source": [
    "# 3. Evaluation"
   ]
  },
  {
   "cell_type": "code",
   "execution_count": null,
   "metadata": {
    "id": "3WGdQa75dgfF"
   },
   "outputs": [],
   "source": [
    "def invert_scaling(y, X, s):\n",
    "    # invert scaling for forecast\n",
    "    inv_y = numpy.concatenate((y, X[:, 1:]), axis=1)\n",
    "    print(s, \"shape:\", inv_y.shape)\n",
    "    inv_y = scaler.inverse_transform(inv_y)\n",
    "    print(s, inv_y.shape)\n",
    "    # trả lại hình dạng ban đầu\n",
    "    inv_y = inv_y[:,0]\n",
    "    return inv_y"
   ]
  },
  {
   "cell_type": "code",
   "execution_count": null,
   "metadata": {
    "colab": {
     "base_uri": "https://localhost:8080/"
    },
    "executionInfo": {
     "elapsed": 1130,
     "status": "ok",
     "timestamp": 1636795420618,
     "user": {
      "displayName": "Phuong Dam",
      "photoUrl": "https://lh3.googleusercontent.com/a/default-user=s64",
      "userId": "01072403895711103873"
     },
     "user_tz": -420
    },
    "id": "SopU4oi00M6b",
    "outputId": "ca623be4-0cd4-4969-db0c-d0ddea87594a"
   },
   "outputs": [
    {
     "name": "stdout",
     "output_type": "stream",
     "text": [
      "X test shape: (277, 1, 6)\n",
      "X test now shape: (277, 6)\n",
      "inv_yhat shape: (277, 6)\n",
      "inv_yhat (277, 6)\n",
      "inv_y shape: (277, 6)\n",
      "inv_y (277, 6)\n"
     ]
    }
   ],
   "source": [
    "#make prediction for TEST data\n",
    "yhat = model2.predict(testX)\n",
    "print('X test shape:', testX.shape)\n",
    "testX_now = testX.reshape((testX.shape[0], testX.shape[2]))\n",
    "print('X test now shape:',testX_now.shape)\n",
    "\n",
    "inv_yhat = invert_scaling(yhat, testX_now, 'inv_yhat')\n",
    "testY = testY.reshape(len(testY),1)\n",
    "inv_y = invert_scaling(testY, testX_now, 'inv_y')"
   ]
  },
  {
   "cell_type": "code",
   "execution_count": null,
   "metadata": {
    "colab": {
     "base_uri": "https://localhost:8080/"
    },
    "executionInfo": {
     "elapsed": 18,
     "status": "ok",
     "timestamp": 1636795420619,
     "user": {
      "displayName": "Phuong Dam",
      "photoUrl": "https://lh3.googleusercontent.com/a/default-user=s64",
      "userId": "01072403895711103873"
     },
     "user_tz": -420
    },
    "id": "JPoHHarL0z-c",
    "outputId": "40213b49-06d8-43b7-a0b5-ef39b8e0eef1"
   },
   "outputs": [
    {
     "name": "stdout",
     "output_type": "stream",
     "text": [
      "Test RMSE: 2.08 RMSE\n",
      "Test RMSE: 1.58 MAE\n"
     ]
    }
   ],
   "source": [
    "#calculate rmse\n",
    "rmse = math.sqrt(mean_squared_error(inv_y, inv_yhat))\n",
    "print('Test RMSE: %.2f RMSE' %(rmse))\n",
    "mae = mean_absolute_error(inv_y, inv_yhat)\n",
    "print('Test RMSE: %.2f MAE' %(mae))"
   ]
  },
  {
   "cell_type": "code",
   "execution_count": null,
   "metadata": {
    "colab": {
     "base_uri": "https://localhost:8080/",
     "height": 374
    },
    "executionInfo": {
     "elapsed": 10,
     "status": "ok",
     "timestamp": 1636795420620,
     "user": {
      "displayName": "Phuong Dam",
      "photoUrl": "https://lh3.googleusercontent.com/a/default-user=s64",
      "userId": "01072403895711103873"
     },
     "user_tz": -420
    },
    "id": "TXQQ48AS5iCn",
    "outputId": "1d2f6594-88e4-4f50-972a-24a707a562b5"
   },
   "outputs": [
    {
     "data": {
      "image/png": "[encoded data removed]",
      "text/plain": [
       "<Figure size 720x432 with 1 Axes>"
      ]
     },
     "metadata": {
      "needs_background": "light"
     },
     "output_type": "display_data"
    }
   ],
   "source": [
    "# plot baseline and predictions \n",
    "plt.figure(figsize=(10,6)) \n",
    "plt.plot(inv_y - inv_yhat, label='Diff between y_test and y_test_hat') \n",
    "plt.legend(title=\"Notes\") \n",
    "plt.show()"
   ]
  },
  {
   "cell_type": "code",
   "execution_count": null,
   "metadata": {
    "colab": {
     "base_uri": "https://localhost:8080/"
    },
    "executionInfo": {
     "elapsed": 1254,
     "status": "ok",
     "timestamp": 1636795421868,
     "user": {
      "displayName": "Phuong Dam",
      "photoUrl": "https://lh3.googleusercontent.com/a/default-user=s64",
      "userId": "01072403895711103873"
     },
     "user_tz": -420
    },
    "id": "r1H4CMhSv_e6",
    "outputId": "94606a9e-213d-46b2-a80b-346c39c13506"
   },
   "outputs": [
    {
     "name": "stdout",
     "output_type": "stream",
     "text": [
      "X train shape: (730, 1, 6)\n",
      "X train now shape: (730, 1, 6)\n",
      "inv_yhat_train shape: (730, 6)\n",
      "inv_yhat_train (730, 6)\n",
      "inv_y_train shape: (730, 6)\n",
      "inv_y_train (730, 6)\n"
     ]
    }
   ],
   "source": [
    "#make prediction for TRAIN data\n",
    "yhat_train = model.predict(trainX)\n",
    "print('X train shape:', trainX.shape)\n",
    "trainX_now = trainX.reshape((trainX.shape[0], trainX.shape[2]))\n",
    "print('X train now shape:',trainX.shape)\n",
    "\n",
    "inv_yhat_train = invert_scaling(yhat_train, trainX_now, 'inv_yhat_train')\n",
    "trainY = trainY.reshape(len(trainY),1)\n",
    "inv_y_train= invert_scaling(trainY, trainX_now, 'inv_y_train')"
   ]
  },
  {
   "cell_type": "code",
   "execution_count": null,
   "metadata": {
    "colab": {
     "base_uri": "https://localhost:8080/"
    },
    "executionInfo": {
     "elapsed": 24,
     "status": "ok",
     "timestamp": 1636795421869,
     "user": {
      "displayName": "Phuong Dam",
      "photoUrl": "https://lh3.googleusercontent.com/a/default-user=s64",
      "userId": "01072403895711103873"
     },
     "user_tz": -420
    },
    "id": "nkTRXMtov_P9",
    "outputId": "949c0d8c-352b-4cab-dd38-4c066dead743"
   },
   "outputs": [
    {
     "name": "stdout",
     "output_type": "stream",
     "text": [
      "Test RMSE: 1.33 RMSE\n",
      "Test RMSE: 1.03 MAE\n"
     ]
    }
   ],
   "source": [
    "#calculate rmse\n",
    "rmse = math.sqrt(mean_squared_error(inv_y_train, inv_yhat_train))\n",
    "print('Test RMSE: %.2f RMSE' %(rmse))\n",
    "mae = mean_absolute_error(inv_y_train, inv_yhat_train)\n",
    "print('Test RMSE: %.2f MAE' %(mae))"
   ]
  },
  {
   "cell_type": "code",
   "execution_count": null,
   "metadata": {
    "colab": {
     "base_uri": "https://localhost:8080/",
     "height": 374
    },
    "executionInfo": {
     "elapsed": 17,
     "status": "ok",
     "timestamp": 1636795421869,
     "user": {
      "displayName": "Phuong Dam",
      "photoUrl": "https://lh3.googleusercontent.com/a/default-user=s64",
      "userId": "01072403895711103873"
     },
     "user_tz": -420
    },
    "id": "M5cpoJXuv_NC",
    "outputId": "0f094c23-f2ae-4e0b-e99f-57bad30396ef"
   },
   "outputs": [
    {
     "data": {
      "image/png": "[encoded data removed]",
      "text/plain": [
       "<Figure size 720x432 with 1 Axes>"
      ]
     },
     "metadata": {
      "needs_background": "light"
     },
     "output_type": "display_data"
    }
   ],
   "source": [
    "# plot baseline and predictions\n",
    "plt.figure(figsize=(10,6))\n",
    "plt.plot(testY, label='Test Real Data', color='r')\n",
    "plt.plot(yhat, label='Test Prediction', color='g')\n",
    "plt.legend(title='Notes')\n",
    "plt.show()"
   ]
  },
  {
   "cell_type": "code",
   "execution_count": null,
   "metadata": {
    "colab": {
     "base_uri": "https://localhost:8080/",
     "height": 374
    },
    "executionInfo": {
     "elapsed": 16,
     "status": "ok",
     "timestamp": 1636795421870,
     "user": {
      "displayName": "Phuong Dam",
      "photoUrl": "https://lh3.googleusercontent.com/a/default-user=s64",
      "userId": "01072403895711103873"
     },
     "user_tz": -420
    },
    "id": "KO3qw93nv_Kh",
    "outputId": "0dfac669-c653-41e9-8700-288c3213d76f"
   },
   "outputs": [
    {
     "data": {
      "image/png": "[encoded data removed]",
      "text/plain": [
       "<Figure size 720x432 with 1 Axes>"
      ]
     },
     "metadata": {
      "needs_background": "light"
     },
     "output_type": "display_data"
    }
   ],
   "source": [
    "plt.figure(figsize=(10,6))\n",
    "plt.plot(yhat, label='Test Prediction', color='g')\n",
    "plt.legend(title='Notes')\n",
    "plt.show()"
   ]
  },
  {
   "cell_type": "code",
   "execution_count": null,
   "metadata": {
    "colab": {
     "base_uri": "https://localhost:8080/"
    },
    "executionInfo": {
     "elapsed": 644,
     "status": "ok",
     "timestamp": 1636795422500,
     "user": {
      "displayName": "Phuong Dam",
      "photoUrl": "https://lh3.googleusercontent.com/a/default-user=s64",
      "userId": "01072403895711103873"
     },
     "user_tz": -420
    },
    "id": "RwQGkKyV5mvD",
    "outputId": "12829b79-56ae-4cc6-b733-d9143073cf66"
   },
   "outputs": [
    {
     "name": "stdout",
     "output_type": "stream",
     "text": [
      "Val_loss_train\n",
      "23/23 [==============================] - 1s 2ms/step - loss: 0.0093\n"
     ]
    },
    {
     "data": {
      "text/plain": [
       "0.009280391037464142"
      ]
     },
     "execution_count": 35,
     "metadata": {},
     "output_type": "execute_result"
    }
   ],
   "source": [
    "print('Val_loss_train')\n",
    "model.evaluate(trainX, trainY)"
   ]
  },
  {
   "cell_type": "code",
   "execution_count": null,
   "metadata": {
    "colab": {
     "base_uri": "https://localhost:8080/"
    },
    "executionInfo": {
     "elapsed": 18,
     "status": "ok",
     "timestamp": 1636795422501,
     "user": {
      "displayName": "Phuong Dam",
      "photoUrl": "https://lh3.googleusercontent.com/a/default-user=s64",
      "userId": "01072403895711103873"
     },
     "user_tz": -420
    },
    "id": "5Wbw40nW7RQl",
    "outputId": "62afbef0-6473-4561-c8c0-be8e3c17847c"
   },
   "outputs": [
    {
     "name": "stdout",
     "output_type": "stream",
     "text": [
      "Val_loss_test\n",
      "9/9 [==============================] - 0s 3ms/step - loss: 0.0189\n"
     ]
    },
    {
     "data": {
      "text/plain": [
       "0.018866853788495064"
      ]
     },
     "execution_count": 36,
     "metadata": {},
     "output_type": "execute_result"
    }
   ],
   "source": [
    "print('Val_loss_test')\n",
    "model.evaluate(testX, testY)"
   ]
  },
  {
   "cell_type": "markdown",
   "metadata": {
    "id": "fyMlW0Yfnjz4"
   },
   "source": [
    "### Nhận xét:\n",
    "- loss & val_loss rất nhỏ => mô hình phù hợp"
   ]
  },
  {
   "cell_type": "code",
   "execution_count": null,
   "metadata": {
    "id": "NQt1JUukni5j"
   },
   "outputs": [],
   "source": [
    "# Save the result\n",
    "model2.save('AAPL_many_to_one.h5')"
   ]
  },
  {
   "cell_type": "markdown",
   "metadata": {
    "id": "uvlfBiTi75EC"
   },
   "source": [
    "#4. Make new prediction"
   ]
  },
  {
   "cell_type": "code",
   "execution_count": null,
   "metadata": {
    "colab": {
     "base_uri": "https://localhost:8080/",
     "height": 235
    },
    "executionInfo": {
     "elapsed": 497,
     "status": "ok",
     "timestamp": 1636795518693,
     "user": {
      "displayName": "Phuong Dam",
      "photoUrl": "https://lh3.googleusercontent.com/a/default-user=s64",
      "userId": "01072403895711103873"
     },
     "user_tz": -420
    },
    "id": "Jtt6XAGIKNoS",
    "outputId": "7fd2ffcd-86e0-4764-f72c-29beb32ce166"
   },
   "outputs": [
    {
     "data": {
      "text/html": [
       "<div>\n",
       "<style scoped>\n",
       "    .dataframe tbody tr th:only-of-type {\n",
       "        vertical-align: middle;\n",
       "    }\n",
       "\n",
       "    .dataframe tbody tr th {\n",
       "        vertical-align: top;\n",
       "    }\n",
       "\n",
       "    .dataframe thead th {\n",
       "        text-align: right;\n",
       "    }\n",
       "</style>\n",
       "<table border=\"1\" class=\"dataframe\">\n",
       "  <thead>\n",
       "    <tr style=\"text-align: right;\">\n",
       "      <th></th>\n",
       "      <th>Open</th>\n",
       "      <th>High</th>\n",
       "      <th>Low</th>\n",
       "      <th>Close</th>\n",
       "      <th>Adj Close</th>\n",
       "      <th>Volume</th>\n",
       "    </tr>\n",
       "    <tr>\n",
       "      <th>Date</th>\n",
       "      <th></th>\n",
       "      <th></th>\n",
       "      <th></th>\n",
       "      <th></th>\n",
       "      <th></th>\n",
       "      <th></th>\n",
       "    </tr>\n",
       "  </thead>\n",
       "  <tbody>\n",
       "    <tr>\n",
       "      <th>2016-11-14</th>\n",
       "      <td>26.927500</td>\n",
       "      <td>26.952499</td>\n",
       "      <td>26.020000</td>\n",
       "      <td>26.427500</td>\n",
       "      <td>24.825821</td>\n",
       "      <td>204702000</td>\n",
       "    </tr>\n",
       "    <tr>\n",
       "      <th>2016-11-15</th>\n",
       "      <td>26.642500</td>\n",
       "      <td>26.920000</td>\n",
       "      <td>26.540001</td>\n",
       "      <td>26.777500</td>\n",
       "      <td>25.154610</td>\n",
       "      <td>129058000</td>\n",
       "    </tr>\n",
       "    <tr>\n",
       "      <th>2016-11-16</th>\n",
       "      <td>26.674999</td>\n",
       "      <td>27.557501</td>\n",
       "      <td>26.650000</td>\n",
       "      <td>27.497499</td>\n",
       "      <td>25.830971</td>\n",
       "      <td>235362000</td>\n",
       "    </tr>\n",
       "    <tr>\n",
       "      <th>2016-11-17</th>\n",
       "      <td>27.452499</td>\n",
       "      <td>27.587500</td>\n",
       "      <td>27.207500</td>\n",
       "      <td>27.487499</td>\n",
       "      <td>25.821573</td>\n",
       "      <td>110528000</td>\n",
       "    </tr>\n",
       "    <tr>\n",
       "      <th>2016-11-18</th>\n",
       "      <td>27.430000</td>\n",
       "      <td>27.635000</td>\n",
       "      <td>27.415001</td>\n",
       "      <td>27.514999</td>\n",
       "      <td>25.847408</td>\n",
       "      <td>113715600</td>\n",
       "    </tr>\n",
       "  </tbody>\n",
       "</table>\n",
       "</div>"
      ],
      "text/plain": [
       "                 Open       High        Low      Close  Adj Close     Volume\n",
       "Date                                                                        \n",
       "2016-11-14  26.927500  26.952499  26.020000  26.427500  24.825821  204702000\n",
       "2016-11-15  26.642500  26.920000  26.540001  26.777500  25.154610  129058000\n",
       "2016-11-16  26.674999  27.557501  26.650000  27.497499  25.830971  235362000\n",
       "2016-11-17  27.452499  27.587500  27.207500  27.487499  25.821573  110528000\n",
       "2016-11-18  27.430000  27.635000  27.415001  27.514999  25.847408  113715600"
      ]
     },
     "execution_count": 47,
     "metadata": {},
     "output_type": "execute_result"
    }
   ],
   "source": [
    "dataset= pd.read_csv('AAPL.csv', index_col=0)\n",
    "dataset.head()"
   ]
  },
  {
   "cell_type": "code",
   "execution_count": null,
   "metadata": {
    "colab": {
     "base_uri": "https://localhost:8080/",
     "height": 235
    },
    "executionInfo": {
     "elapsed": 6,
     "status": "ok",
     "timestamp": 1636795519351,
     "user": {
      "displayName": "Phuong Dam",
      "photoUrl": "https://lh3.googleusercontent.com/a/default-user=s64",
      "userId": "01072403895711103873"
     },
     "user_tz": -420
    },
    "id": "AxW0H_D9Kbvm",
    "outputId": "65c7b95b-3315-4c1f-ba85-ba82ef0e923e"
   },
   "outputs": [
    {
     "data": {
      "text/html": [
       "<div>\n",
       "<style scoped>\n",
       "    .dataframe tbody tr th:only-of-type {\n",
       "        vertical-align: middle;\n",
       "    }\n",
       "\n",
       "    .dataframe tbody tr th {\n",
       "        vertical-align: top;\n",
       "    }\n",
       "\n",
       "    .dataframe thead th {\n",
       "        text-align: right;\n",
       "    }\n",
       "</style>\n",
       "<table border=\"1\" class=\"dataframe\">\n",
       "  <thead>\n",
       "    <tr style=\"text-align: right;\">\n",
       "      <th></th>\n",
       "      <th>Open</th>\n",
       "      <th>High</th>\n",
       "      <th>Low</th>\n",
       "      <th>Close</th>\n",
       "      <th>Adj Close</th>\n",
       "      <th>Volume</th>\n",
       "    </tr>\n",
       "    <tr>\n",
       "      <th>Date</th>\n",
       "      <th></th>\n",
       "      <th></th>\n",
       "      <th></th>\n",
       "      <th></th>\n",
       "      <th></th>\n",
       "      <th></th>\n",
       "    </tr>\n",
       "  </thead>\n",
       "  <tbody>\n",
       "    <tr>\n",
       "      <th>2020-11-09</th>\n",
       "      <td>120.500000</td>\n",
       "      <td>121.989998</td>\n",
       "      <td>116.050003</td>\n",
       "      <td>116.320000</td>\n",
       "      <td>116.320000</td>\n",
       "      <td>154515300</td>\n",
       "    </tr>\n",
       "    <tr>\n",
       "      <th>2020-11-10</th>\n",
       "      <td>115.550003</td>\n",
       "      <td>117.589996</td>\n",
       "      <td>114.129997</td>\n",
       "      <td>115.970001</td>\n",
       "      <td>115.970001</td>\n",
       "      <td>138023400</td>\n",
       "    </tr>\n",
       "    <tr>\n",
       "      <th>2020-11-11</th>\n",
       "      <td>117.190002</td>\n",
       "      <td>119.629997</td>\n",
       "      <td>116.440002</td>\n",
       "      <td>119.489998</td>\n",
       "      <td>119.489998</td>\n",
       "      <td>112295000</td>\n",
       "    </tr>\n",
       "    <tr>\n",
       "      <th>2020-11-12</th>\n",
       "      <td>119.620003</td>\n",
       "      <td>120.529999</td>\n",
       "      <td>118.570000</td>\n",
       "      <td>119.209999</td>\n",
       "      <td>119.209999</td>\n",
       "      <td>103162300</td>\n",
       "    </tr>\n",
       "    <tr>\n",
       "      <th>2020-11-13</th>\n",
       "      <td>119.440002</td>\n",
       "      <td>119.669998</td>\n",
       "      <td>117.870003</td>\n",
       "      <td>119.260002</td>\n",
       "      <td>119.260002</td>\n",
       "      <td>81581900</td>\n",
       "    </tr>\n",
       "  </tbody>\n",
       "</table>\n",
       "</div>"
      ],
      "text/plain": [
       "                  Open        High  ...   Adj Close     Volume\n",
       "Date                                ...                       \n",
       "2020-11-09  120.500000  121.989998  ...  116.320000  154515300\n",
       "2020-11-10  115.550003  117.589996  ...  115.970001  138023400\n",
       "2020-11-11  117.190002  119.629997  ...  119.489998  112295000\n",
       "2020-11-12  119.620003  120.529999  ...  119.209999  103162300\n",
       "2020-11-13  119.440002  119.669998  ...  119.260002   81581900\n",
       "\n",
       "[5 rows x 6 columns]"
      ]
     },
     "execution_count": 48,
     "metadata": {},
     "output_type": "execute_result"
    }
   ],
   "source": [
    "dataset.tail()"
   ]
  },
  {
   "cell_type": "code",
   "execution_count": null,
   "metadata": {
    "colab": {
     "base_uri": "https://localhost:8080/",
     "height": 142
    },
    "executionInfo": {
     "elapsed": 7,
     "status": "ok",
     "timestamp": 1636795521488,
     "user": {
      "displayName": "Phuong Dam",
      "photoUrl": "https://lh3.googleusercontent.com/a/default-user=s64",
      "userId": "01072403895711103873"
     },
     "user_tz": -420
    },
    "id": "ltDCiOhf72kl",
    "outputId": "2c9e415e-1ddf-4bd8-df16-4c9438ee7362"
   },
   "outputs": [
    {
     "data": {
      "text/html": [
       "<div>\n",
       "<style scoped>\n",
       "    .dataframe tbody tr th:only-of-type {\n",
       "        vertical-align: middle;\n",
       "    }\n",
       "\n",
       "    .dataframe tbody tr th {\n",
       "        vertical-align: top;\n",
       "    }\n",
       "\n",
       "    .dataframe thead th {\n",
       "        text-align: right;\n",
       "    }\n",
       "</style>\n",
       "<table border=\"1\" class=\"dataframe\">\n",
       "  <thead>\n",
       "    <tr style=\"text-align: right;\">\n",
       "      <th></th>\n",
       "      <th>Open</th>\n",
       "      <th>High</th>\n",
       "      <th>Low</th>\n",
       "      <th>Close</th>\n",
       "      <th>Adj Close</th>\n",
       "      <th>Volume</th>\n",
       "    </tr>\n",
       "    <tr>\n",
       "      <th>Date</th>\n",
       "      <th></th>\n",
       "      <th></th>\n",
       "      <th></th>\n",
       "      <th></th>\n",
       "      <th></th>\n",
       "      <th></th>\n",
       "    </tr>\n",
       "  </thead>\n",
       "  <tbody>\n",
       "    <tr>\n",
       "      <th>11/13/20</th>\n",
       "      <td>119.440002</td>\n",
       "      <td>119.669998</td>\n",
       "      <td>117.870003</td>\n",
       "      <td>119.260002</td>\n",
       "      <td>119.260002</td>\n",
       "      <td>81581900</td>\n",
       "    </tr>\n",
       "    <tr>\n",
       "      <th>12/13/20</th>\n",
       "      <td>0.000000</td>\n",
       "      <td>0.000000</td>\n",
       "      <td>0.000000</td>\n",
       "      <td>0.000000</td>\n",
       "      <td>0.000000</td>\n",
       "      <td>0</td>\n",
       "    </tr>\n",
       "  </tbody>\n",
       "</table>\n",
       "</div>"
      ],
      "text/plain": [
       "                Open        High         Low       Close   Adj Close    Volume\n",
       "Date                                                                          \n",
       "11/13/20  119.440002  119.669998  117.870003  119.260002  119.260002  81581900\n",
       "12/13/20    0.000000    0.000000    0.000000    0.000000    0.000000         0"
      ]
     },
     "execution_count": 49,
     "metadata": {},
     "output_type": "execute_result"
    }
   ],
   "source": [
    "dataset_new = pd.read_csv('AAPL_predict.csv', index_col = 0,)\n",
    "dataset_new"
   ]
  },
  {
   "cell_type": "code",
   "execution_count": null,
   "metadata": {
    "colab": {
     "base_uri": "https://localhost:8080/"
    },
    "executionInfo": {
     "elapsed": 640,
     "status": "ok",
     "timestamp": 1636795525321,
     "user": {
      "displayName": "Phuong Dam",
      "photoUrl": "https://lh3.googleusercontent.com/a/default-user=s64",
      "userId": "01072403895711103873"
     },
     "user_tz": -420
    },
    "id": "lzY_VFn68K16",
    "outputId": "33ff98f3-cfca-494b-ed45-abeff5f57127"
   },
   "outputs": [
    {
     "data": {
      "text/plain": [
       "array([[1.19440002e+02, 1.19669998e+02, 1.17870003e+02, 1.19260002e+02,\n",
       "        1.19260002e+02, 8.15819000e+07],\n",
       "       [0.00000000e+00, 0.00000000e+00, 0.00000000e+00, 0.00000000e+00,\n",
       "        0.00000000e+00, 0.00000000e+00]])"
      ]
     },
     "execution_count": 50,
     "metadata": {},
     "output_type": "execute_result"
    }
   ],
   "source": [
    "values_new = dataset_new.values\n",
    "values_new"
   ]
  },
  {
   "cell_type": "code",
   "execution_count": null,
   "metadata": {
    "colab": {
     "base_uri": "https://localhost:8080/"
    },
    "executionInfo": {
     "elapsed": 6,
     "status": "ok",
     "timestamp": 1636795526126,
     "user": {
      "displayName": "Phuong Dam",
      "photoUrl": "https://lh3.googleusercontent.com/a/default-user=s64",
      "userId": "01072403895711103873"
     },
     "user_tz": -420
    },
    "id": "BScSYFh4_JbO",
    "outputId": "1f74eb66-b5bb-4a78-a700-f546aaf146c5"
   },
   "outputs": [
    {
     "data": {
      "text/plain": [
       "array([[ 0.83640916,  0.83513417,  0.8788633 ,  0.86153461,  0.86539148,\n",
       "         0.12592112],\n",
       "       [-0.24013611, -0.24239151, -0.24897139, -0.24526115, -0.22750294,\n",
       "        -0.06872181]])"
      ]
     },
     "execution_count": 51,
     "metadata": {},
     "output_type": "execute_result"
    }
   ],
   "source": [
    "#MinMaxScaler\n",
    "scaled_new = scaler.transform(values_new)\n",
    "scaled_new"
   ]
  },
  {
   "cell_type": "code",
   "execution_count": null,
   "metadata": {
    "colab": {
     "base_uri": "https://localhost:8080/",
     "height": 80
    },
    "executionInfo": {
     "elapsed": 597,
     "status": "ok",
     "timestamp": 1636795529162,
     "user": {
      "displayName": "Phuong Dam",
      "photoUrl": "https://lh3.googleusercontent.com/a/default-user=s64",
      "userId": "01072403895711103873"
     },
     "user_tz": -420
    },
    "id": "3CAns5Zy_3D_",
    "outputId": "4010ce33-c6bd-4f1c-b87d-b992789bffee"
   },
   "outputs": [
    {
     "data": {
      "text/html": [
       "<div>\n",
       "<style scoped>\n",
       "    .dataframe tbody tr th:only-of-type {\n",
       "        vertical-align: middle;\n",
       "    }\n",
       "\n",
       "    .dataframe tbody tr th {\n",
       "        vertical-align: top;\n",
       "    }\n",
       "\n",
       "    .dataframe thead th {\n",
       "        text-align: right;\n",
       "    }\n",
       "</style>\n",
       "<table border=\"1\" class=\"dataframe\">\n",
       "  <thead>\n",
       "    <tr style=\"text-align: right;\">\n",
       "      <th></th>\n",
       "      <th>var1(t-1)</th>\n",
       "      <th>var2(t-1)</th>\n",
       "      <th>var3(t-1)</th>\n",
       "      <th>var4(t-1)</th>\n",
       "      <th>var5(t-1)</th>\n",
       "      <th>var6(t-1)</th>\n",
       "      <th>var1(t)</th>\n",
       "    </tr>\n",
       "  </thead>\n",
       "  <tbody>\n",
       "    <tr>\n",
       "      <th>1</th>\n",
       "      <td>0.836409</td>\n",
       "      <td>0.835134</td>\n",
       "      <td>0.878863</td>\n",
       "      <td>0.861535</td>\n",
       "      <td>0.865391</td>\n",
       "      <td>0.125921</td>\n",
       "      <td>-0.240136</td>\n",
       "    </tr>\n",
       "  </tbody>\n",
       "</table>\n",
       "</div>"
      ],
      "text/plain": [
       "   var1(t-1)  var2(t-1)  var3(t-1)  var4(t-1)  var5(t-1)  var6(t-1)   var1(t)\n",
       "1   0.836409   0.835134   0.878863   0.861535   0.865391   0.125921 -0.240136"
      ]
     },
     "execution_count": 52,
     "metadata": {},
     "output_type": "execute_result"
    }
   ],
   "source": [
    "#convert datafram as supervised learning\n",
    "reframed_new = series_to_supervised(scaled_new,1)\n",
    "reframed_new.drop(reframed_new.columns[[7,8,9,10,11]], axis=1, inplace=True)\n",
    "reframed_new.head()"
   ]
  },
  {
   "cell_type": "code",
   "execution_count": null,
   "metadata": {
    "colab": {
     "base_uri": "https://localhost:8080/"
    },
    "executionInfo": {
     "elapsed": 10,
     "status": "ok",
     "timestamp": 1636795529780,
     "user": {
      "displayName": "Phuong Dam",
      "photoUrl": "https://lh3.googleusercontent.com/a/default-user=s64",
      "userId": "01072403895711103873"
     },
     "user_tz": -420
    },
    "id": "ogxYfvw5APWo",
    "outputId": "ed328d10-aa27-4c2e-aecf-fa5459d9cdf6"
   },
   "outputs": [
    {
     "data": {
      "text/plain": [
       "(1, 7)"
      ]
     },
     "execution_count": 53,
     "metadata": {},
     "output_type": "execute_result"
    }
   ],
   "source": [
    "reframed_new.shape"
   ]
  },
  {
   "cell_type": "code",
   "execution_count": null,
   "metadata": {
    "colab": {
     "base_uri": "https://localhost:8080/"
    },
    "executionInfo": {
     "elapsed": 617,
     "status": "ok",
     "timestamp": 1636795532035,
     "user": {
      "displayName": "Phuong Dam",
      "photoUrl": "https://lh3.googleusercontent.com/a/default-user=s64",
      "userId": "01072403895711103873"
     },
     "user_tz": -420
    },
    "id": "tXp8eUMnAZDE",
    "outputId": "ff8820c6-22ef-4120-e86f-e79184b0bcc9"
   },
   "outputs": [
    {
     "data": {
      "text/plain": [
       "(1, 1, 6)"
      ]
     },
     "execution_count": 54,
     "metadata": {},
     "output_type": "execute_result"
    }
   ],
   "source": [
    "values_new = reframed_new.values\n",
    "# Split into input/output\n",
    "new_pre = values_new[:,:-1]\n",
    "new_pre.shape\n",
    "# Reshape input to be 3D[samples, timesteps,features]\n",
    "new_pre = new_pre.reshape((new_pre.shape[0],1,new_pre.shape[1]))\n",
    "new_pre.shape"
   ]
  },
  {
   "cell_type": "code",
   "execution_count": null,
   "metadata": {
    "colab": {
     "base_uri": "https://localhost:8080/"
    },
    "executionInfo": {
     "elapsed": 486,
     "status": "ok",
     "timestamp": 1636795538291,
     "user": {
      "displayName": "Phuong Dam",
      "photoUrl": "https://lh3.googleusercontent.com/a/default-user=s64",
      "userId": "01072403895711103873"
     },
     "user_tz": -420
    },
    "id": "HbOD2JasDFkN",
    "outputId": "110e0936-e5ca-4e92-c060-ae449657f060"
   },
   "outputs": [
    {
     "data": {
      "text/plain": [
       "array([[0.8481808]], dtype=float32)"
      ]
     },
     "execution_count": 55,
     "metadata": {},
     "output_type": "execute_result"
    }
   ],
   "source": [
    "yhat_new_pre = model2.predict(new_pre)\n",
    "yhat_new_pre"
   ]
  },
  {
   "cell_type": "code",
   "execution_count": null,
   "metadata": {
    "colab": {
     "base_uri": "https://localhost:8080/"
    },
    "executionInfo": {
     "elapsed": 463,
     "status": "ok",
     "timestamp": 1636795543048,
     "user": {
      "displayName": "Phuong Dam",
      "photoUrl": "https://lh3.googleusercontent.com/a/default-user=s64",
      "userId": "01072403895711103873"
     },
     "user_tz": -420
    },
    "id": "LBNzDZNPCiYd",
    "outputId": "3fd26b51-ba61-40db-985a-7e346d5a24bc"
   },
   "outputs": [
    {
     "name": "stdout",
     "output_type": "stream",
     "text": [
      "yhat_new_pre shape: (1, 6)\n",
      "yhat_new_pre (1, 6)\n"
     ]
    },
    {
     "data": {
      "text/plain": [
       "array([120.74603268])"
      ]
     },
     "execution_count": 56,
     "metadata": {},
     "output_type": "execute_result"
    }
   ],
   "source": [
    "# invert scaling for actual\n",
    "yhat_new_pre = yhat_new_pre.reshape(len(yhat_new_pre),1)\n",
    "new_pre_now = new_pre.reshape((new_pre.shape[0],new_pre.shape[2]))\n",
    "yhat_new_pre = invert_scaling(yhat_new_pre, new_pre_now, 'yhat_new_pre')\n",
    "yhat_new_pre"
   ]
  }
 ],
 "metadata": {
  "colab": {
   "authorship_tag": "ABX9TyNa/RWswB6TH0eFcvoV2E8Q",
   "collapsed_sections": [
    "6GQmivGEOEfh",
    "jmw_w3K4OMhG",
    "7QpYGFojm_7n",
    "ztyZG1Jcldva",
    "liqWfIGOmiAr",
    "uvlfBiTi75EC"
   ],
   "name": "AAPL_many_to_one.ipynb",
   "provenance": []
  },
  "kernelspec": {
   "display_name": "Python 3 (ipykernel)",
   "language": "python",
   "name": "python3"
  },
  "language_info": {
   "codemirror_mode": {
    "name": "ipython",
    "version": 3
   },
   "file_extension": ".py",
   "mimetype": "text/x-python",
   "name": "python",
   "nbconvert_exporter": "python",
   "pygments_lexer": "ipython3",
   "version": "3.8.12"
  }
 },
 "nbformat": 4,
 "nbformat_minor": 1
}
