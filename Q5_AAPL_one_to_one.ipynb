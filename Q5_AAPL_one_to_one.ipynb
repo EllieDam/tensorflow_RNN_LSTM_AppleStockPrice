{
 "cells": [
  {
   "cell_type": "markdown",
   "metadata": {
    "id": "DqXHmx0FQeXo"
   },
   "source": [
    "# Question 5: RNN - LSTM\n",
    "- Use AAPL.csv dataset or dowload from link https://finance.yahoo.com/quote/AAPL/history?period1=1479081600&period2=1605312000&interval=1d&filter=history&frequency=1d&includeAdjustedClose=true\n",
    "- Requirement:\n",
    "  + Build a model to predict the tomorrow's Open value based on the today's Open value."
   ]
  },
  {
   "cell_type": "markdown",
   "metadata": {
    "id": "fu8jGYCJQGZp"
   },
   "source": [
    "# 0.Mount drive & Import packages"
   ]
  },
  {
   "cell_type": "code",
   "execution_count": null,
   "metadata": {
    "colab": {
     "base_uri": "https://localhost:8080/"
    },
    "executionInfo": {
     "elapsed": 20528,
     "status": "ok",
     "timestamp": 1636793300187,
     "user": {
      "displayName": "Phuong Dam",
      "photoUrl": "https://lh3.googleusercontent.com/a/default-user=s64",
      "userId": "01072403895711103873"
     },
     "user_tz": -420
    },
    "id": "GsCsMHCMlEUe",
    "outputId": "e131093a-36f7-4692-8968-b2b22a680e47"
   },
   "outputs": [
    {
     "name": "stdout",
     "output_type": "stream",
     "text": [
      "Mounted at /content/gdrive\n"
     ]
    }
   ],
   "source": [
    "from google.colab import drive\n",
    "drive.mount(\"/content/gdrive\", force_remount=True)"
   ]
  },
  {
   "cell_type": "code",
   "execution_count": null,
   "metadata": {
    "colab": {
     "base_uri": "https://localhost:8080/"
    },
    "executionInfo": {
     "elapsed": 459,
     "status": "ok",
     "timestamp": 1636793603519,
     "user": {
      "displayName": "Phuong Dam",
      "photoUrl": "https://lh3.googleusercontent.com/a/default-user=s64",
      "userId": "01072403895711103873"
     },
     "user_tz": -420
    },
    "id": "4RdFcd2QlI_U",
    "outputId": "f4862bd5-abc9-4f2b-a539-888ba37aac8d"
   },
   "outputs": [
    {
     "name": "stdout",
     "output_type": "stream",
     "text": [
      "/content/gdrive/My Drive/LDS8_K270_ONLINE_DamThiMinhPhuong/LDS8_K270_DamThiMinhPhuong_Cuoi_ky/Question5_RNN\n"
     ]
    }
   ],
   "source": [
    "%cd '/content/gdrive/My Drive/LDS8_K270_ONLINE_DamThiMinhPhuong/LDS8_K270_DamThiMinhPhuong_Cuoi_ky/Question5_RNN'"
   ]
  },
  {
   "cell_type": "code",
   "execution_count": null,
   "metadata": {
    "id": "yankov73lvVo"
   },
   "outputs": [],
   "source": [
    "# LSTM for air pollution problem with regression framing\n",
    "import pandas as pd\n",
    "import numpy\n",
    "import math\n",
    "import matplotlib.pyplot as plt\n",
    "import seaborn as sns\n",
    "from tensorflow.keras import Sequential\n",
    "from tensorflow.keras.layers import Dense\n",
    "from tensorflow.keras.layers import LSTM\n",
    "from sklearn.preprocessing import MinMaxScaler\n",
    "from sklearn.metrics import mean_squared_error, mean_absolute_error"
   ]
  },
  {
   "cell_type": "code",
   "execution_count": null,
   "metadata": {
    "id": "cWscZ0WRnFxO"
   },
   "outputs": [],
   "source": [
    "# convert an array of values into a dataset matrix\n",
    "def create_dataset(dataset, look_back=1):\n",
    "\tdataX, dataY = [], []\n",
    "\tfor i in range(len(dataset)-look_back-1):\n",
    "\t#t\n",
    "\t\ta = dataset[i:(i+look_back), 0]\n",
    "\t\tdataX.append(a)\n",
    "\t#t+1\n",
    "\t\tdataY.append(dataset[i + look_back, 0])\n",
    "\treturn numpy.array(dataX), numpy.array(dataY)"
   ]
  },
  {
   "cell_type": "code",
   "execution_count": null,
   "metadata": {
    "id": "1k444Evnomxj"
   },
   "outputs": [],
   "source": [
    "# fix random seed\n",
    "numpy.random.seed(7)"
   ]
  },
  {
   "cell_type": "markdown",
   "metadata": {
    "id": "-73W9OHHQrdi"
   },
   "source": [
    "# 1. Load & prepare data"
   ]
  },
  {
   "cell_type": "code",
   "execution_count": null,
   "metadata": {
    "colab": {
     "base_uri": "https://localhost:8080/",
     "height": 235
    },
    "executionInfo": {
     "elapsed": 1033,
     "status": "ok",
     "timestamp": 1636793618023,
     "user": {
      "displayName": "Phuong Dam",
      "photoUrl": "https://lh3.googleusercontent.com/a/default-user=s64",
      "userId": "01072403895711103873"
     },
     "user_tz": -420
    },
    "id": "aMq1u-OMmsf1",
    "outputId": "e54de9cc-2b07-4315-d8e9-cd3ef56415d1"
   },
   "outputs": [
    {
     "data": {
      "text/html": [
       "<div>\n",
       "<style scoped>\n",
       "    .dataframe tbody tr th:only-of-type {\n",
       "        vertical-align: middle;\n",
       "    }\n",
       "\n",
       "    .dataframe tbody tr th {\n",
       "        vertical-align: top;\n",
       "    }\n",
       "\n",
       "    .dataframe thead th {\n",
       "        text-align: right;\n",
       "    }\n",
       "</style>\n",
       "<table border=\"1\" class=\"dataframe\">\n",
       "  <thead>\n",
       "    <tr style=\"text-align: right;\">\n",
       "      <th></th>\n",
       "      <th>Open</th>\n",
       "      <th>High</th>\n",
       "      <th>Low</th>\n",
       "      <th>Close</th>\n",
       "      <th>Adj Close</th>\n",
       "      <th>Volume</th>\n",
       "    </tr>\n",
       "    <tr>\n",
       "      <th>Date</th>\n",
       "      <th></th>\n",
       "      <th></th>\n",
       "      <th></th>\n",
       "      <th></th>\n",
       "      <th></th>\n",
       "      <th></th>\n",
       "    </tr>\n",
       "  </thead>\n",
       "  <tbody>\n",
       "    <tr>\n",
       "      <th>2016-11-14</th>\n",
       "      <td>26.927500</td>\n",
       "      <td>26.952499</td>\n",
       "      <td>26.020000</td>\n",
       "      <td>26.427500</td>\n",
       "      <td>24.825821</td>\n",
       "      <td>204702000</td>\n",
       "    </tr>\n",
       "    <tr>\n",
       "      <th>2016-11-15</th>\n",
       "      <td>26.642500</td>\n",
       "      <td>26.920000</td>\n",
       "      <td>26.540001</td>\n",
       "      <td>26.777500</td>\n",
       "      <td>25.154610</td>\n",
       "      <td>129058000</td>\n",
       "    </tr>\n",
       "    <tr>\n",
       "      <th>2016-11-16</th>\n",
       "      <td>26.674999</td>\n",
       "      <td>27.557501</td>\n",
       "      <td>26.650000</td>\n",
       "      <td>27.497499</td>\n",
       "      <td>25.830971</td>\n",
       "      <td>235362000</td>\n",
       "    </tr>\n",
       "    <tr>\n",
       "      <th>2016-11-17</th>\n",
       "      <td>27.452499</td>\n",
       "      <td>27.587500</td>\n",
       "      <td>27.207500</td>\n",
       "      <td>27.487499</td>\n",
       "      <td>25.821573</td>\n",
       "      <td>110528000</td>\n",
       "    </tr>\n",
       "    <tr>\n",
       "      <th>2016-11-18</th>\n",
       "      <td>27.430000</td>\n",
       "      <td>27.635000</td>\n",
       "      <td>27.415001</td>\n",
       "      <td>27.514999</td>\n",
       "      <td>25.847408</td>\n",
       "      <td>113715600</td>\n",
       "    </tr>\n",
       "  </tbody>\n",
       "</table>\n",
       "</div>"
      ],
      "text/plain": [
       "                 Open       High        Low      Close  Adj Close     Volume\n",
       "Date                                                                        \n",
       "2016-11-14  26.927500  26.952499  26.020000  26.427500  24.825821  204702000\n",
       "2016-11-15  26.642500  26.920000  26.540001  26.777500  25.154610  129058000\n",
       "2016-11-16  26.674999  27.557501  26.650000  27.497499  25.830971  235362000\n",
       "2016-11-17  27.452499  27.587500  27.207500  27.487499  25.821573  110528000\n",
       "2016-11-18  27.430000  27.635000  27.415001  27.514999  25.847408  113715600"
      ]
     },
     "execution_count": 6,
     "metadata": {},
     "output_type": "execute_result"
    }
   ],
   "source": [
    "#load dataset\n",
    "dataframe = pd.read_csv('AAPL.csv', index_col=0)\n",
    "dataframe.head()"
   ]
  },
  {
   "cell_type": "code",
   "execution_count": null,
   "metadata": {
    "id": "R9OLCeM_m7cG"
   },
   "outputs": [],
   "source": [
    "dataset = dataframe[['Open']]\n",
    "dataset = dataset.values.astype('float32')"
   ]
  },
  {
   "cell_type": "code",
   "execution_count": null,
   "metadata": {
    "id": "MvWTcEwWqthy"
   },
   "outputs": [],
   "source": [
    "# normalize the dataset\n",
    "scaler = MinMaxScaler(feature_range=(0,1))\n",
    "dataset = scaler.fit_transform(dataset)"
   ]
  },
  {
   "cell_type": "code",
   "execution_count": null,
   "metadata": {
    "id": "nsatOXS1rCOc"
   },
   "outputs": [],
   "source": [
    "#split into train and test set\n",
    "train_size = int(len(dataset) *0.67)\n",
    "test_size = len(dataset) - train_size\n",
    "train, test = dataset[0:train_size,:], dataset[train_size:len(dataset),:]"
   ]
  },
  {
   "cell_type": "code",
   "execution_count": null,
   "metadata": {
    "id": "s7Au6OMOspmf"
   },
   "outputs": [],
   "source": [
    "#reshape into X=t and Y=t+1\n",
    "look_back = 1\n",
    "trainX, trainY = create_dataset(train, look_back)\n",
    "testX, testY = create_dataset(test, look_back)"
   ]
  },
  {
   "cell_type": "code",
   "execution_count": null,
   "metadata": {
    "colab": {
     "base_uri": "https://localhost:8080/"
    },
    "executionInfo": {
     "elapsed": 5,
     "status": "ok",
     "timestamp": 1636793634291,
     "user": {
      "displayName": "Phuong Dam",
      "photoUrl": "https://lh3.googleusercontent.com/a/default-user=s64",
      "userId": "01072403895711103873"
     },
     "user_tz": -420
    },
    "id": "VptWLaJ7u4Q4",
    "outputId": "7a5eaa4c-1fe3-4767-bb89-0b2c5aacdee6"
   },
   "outputs": [
    {
     "name": "stdout",
     "output_type": "stream",
     "text": [
      "[[0.00256878]\n",
      " [0.        ]\n",
      " [0.00029293]\n",
      " [0.00730075]\n",
      " [0.00709796]]\n",
      "[0.         0.00029293 0.00730075 0.00709796 0.00799929]\n"
     ]
    }
   ],
   "source": [
    "print(trainX[:5])\n",
    "print(trainY[:5])"
   ]
  },
  {
   "cell_type": "code",
   "execution_count": null,
   "metadata": {
    "colab": {
     "base_uri": "https://localhost:8080/"
    },
    "executionInfo": {
     "elapsed": 4,
     "status": "ok",
     "timestamp": 1636793635781,
     "user": {
      "displayName": "Phuong Dam",
      "photoUrl": "https://lh3.googleusercontent.com/a/default-user=s64",
      "userId": "01072403895711103873"
     },
     "user_tz": -420
    },
    "id": "JeELdjjGvhAw",
    "outputId": "37431972-4f4f-40bc-da40-d66dc0b15b61"
   },
   "outputs": [
    {
     "name": "stdout",
     "output_type": "stream",
     "text": [
      "[[0.22781047]\n",
      " [0.23055953]\n",
      " [0.22738233]\n",
      " [0.22959062]\n",
      " [0.23026657]]\n",
      "[0.23055953 0.22738233 0.22959062 0.23026657 0.247527  ]\n"
     ]
    }
   ],
   "source": [
    "print(testX[:5])\n",
    "print(testY[:5])"
   ]
  },
  {
   "cell_type": "code",
   "execution_count": null,
   "metadata": {
    "id": "duxR_bPyv6Bu"
   },
   "outputs": [],
   "source": [
    "# reshape input to be [samples, time steps, features] \n",
    "trainX = numpy.reshape(trainX, (trainX.shape[0], 1, trainX.shape[1])) \n",
    "testX = numpy.reshape(testX, (testX.shape[0], 1, testX.shape[1]))"
   ]
  },
  {
   "cell_type": "markdown",
   "metadata": {
    "id": "_UPfSFg4Qxgs"
   },
   "source": [
    "# 2. Build RNN network"
   ]
  },
  {
   "cell_type": "markdown",
   "metadata": {
    "id": "7VpR2OnBjJ84"
   },
   "source": [
    "### 2.1 Model 1"
   ]
  },
  {
   "cell_type": "code",
   "execution_count": null,
   "metadata": {
    "id": "y22gi88SxYJo"
   },
   "outputs": [],
   "source": [
    "model = Sequential()\n",
    "model.add(LSTM(32, input_shape=(1,look_back)))  #64..\n",
    "model.add(Dense(1))"
   ]
  },
  {
   "cell_type": "code",
   "execution_count": null,
   "metadata": {
    "colab": {
     "base_uri": "https://localhost:8080/"
    },
    "executionInfo": {
     "elapsed": 3,
     "status": "ok",
     "timestamp": 1636793641436,
     "user": {
      "displayName": "Phuong Dam",
      "photoUrl": "https://lh3.googleusercontent.com/a/default-user=s64",
      "userId": "01072403895711103873"
     },
     "user_tz": -420
    },
    "id": "Mv5xerzDyuCA",
    "outputId": "fde8c232-be78-4664-ef97-7d99b8477073"
   },
   "outputs": [
    {
     "name": "stdout",
     "output_type": "stream",
     "text": [
      "Model: \"sequential\"\n",
      "_________________________________________________________________\n",
      " Layer (type)                Output Shape              Param #   \n",
      "=================================================================\n",
      " lstm (LSTM)                 (None, 32)                4352      \n",
      "                                                                 \n",
      " dense (Dense)               (None, 1)                 33        \n",
      "                                                                 \n",
      "=================================================================\n",
      "Total params: 4,385\n",
      "Trainable params: 4,385\n",
      "Non-trainable params: 0\n",
      "_________________________________________________________________\n"
     ]
    }
   ],
   "source": [
    "model.summary()"
   ]
  },
  {
   "cell_type": "code",
   "execution_count": null,
   "metadata": {
    "colab": {
     "base_uri": "https://localhost:8080/",
     "height": 312
    },
    "executionInfo": {
     "elapsed": 597,
     "status": "ok",
     "timestamp": 1636795752096,
     "user": {
      "displayName": "Phuong Dam",
      "photoUrl": "https://lh3.googleusercontent.com/a/default-user=s64",
      "userId": "01072403895711103873"
     },
     "user_tz": -420
    },
    "id": "jg8Z-fF6jZLr",
    "outputId": "fea29c16-4394-4788-e523-eb2ed3d94d32"
   },
   "outputs": [
    {
     "data": {
      "image/png": "[encoded data removed]",
      "text/plain": [
       "<IPython.core.display.Image object>"
      ]
     },
     "execution_count": 61,
     "metadata": {},
     "output_type": "execute_result"
    }
   ],
   "source": [
    "from tensorflow.keras.utils import plot_model\n",
    "from IPython.display import Image\n",
    "plot_model(model, to_file='AAPL_one_to_one_model.png', show_shapes=True)\n",
    "Image(filename='AAPL_one_to_one_model.png')"
   ]
  },
  {
   "cell_type": "code",
   "execution_count": null,
   "metadata": {
    "id": "p3XRlqqGyv6f"
   },
   "outputs": [],
   "source": [
    "# Early Stopping \n",
    "from tensorflow.keras.callbacks import EarlyStopping  \n",
    "early_stopping = EarlyStopping(     min_delta=0.0001, # minimium amount of change to count as an improvement     \n",
    "                               patience=20, # how many epochs to wait before stopping     \n",
    "                               restore_best_weights=True, )"
   ]
  },
  {
   "cell_type": "code",
   "execution_count": null,
   "metadata": {
    "colab": {
     "base_uri": "https://localhost:8080/"
    },
    "collapsed": true,
    "executionInfo": {
     "elapsed": 6163,
     "status": "ok",
     "timestamp": 1636793655245,
     "user": {
      "displayName": "Phuong Dam",
      "photoUrl": "https://lh3.googleusercontent.com/a/default-user=s64",
      "userId": "01072403895711103873"
     },
     "user_tz": -420
    },
    "id": "GiVdz8NEzLsV",
    "outputId": "21f3de4c-44c8-4456-d5e5-fcefb2d006f5"
   },
   "outputs": [
    {
     "name": "stdout",
     "output_type": "stream",
     "text": [
      "Epoch 1/50\n",
      "6/6 [==============================] - 3s 125ms/step - loss: 0.0188 - val_loss: 0.2083\n",
      "Epoch 2/50\n",
      "6/6 [==============================] - 0s 13ms/step - loss: 0.0144 - val_loss: 0.1868\n",
      "Epoch 3/50\n",
      "6/6 [==============================] - 0s 9ms/step - loss: 0.0107 - val_loss: 0.1666\n",
      "Epoch 4/50\n",
      "6/6 [==============================] - 0s 9ms/step - loss: 0.0077 - val_loss: 0.1481\n",
      "Epoch 5/50\n",
      "6/6 [==============================] - 0s 11ms/step - loss: 0.0055 - val_loss: 0.1315\n",
      "Epoch 6/50\n",
      "6/6 [==============================] - 0s 10ms/step - loss: 0.0039 - val_loss: 0.1173\n",
      "Epoch 7/50\n",
      "6/6 [==============================] - 0s 10ms/step - loss: 0.0030 - val_loss: 0.1058\n",
      "Epoch 8/50\n",
      "6/6 [==============================] - 0s 12ms/step - loss: 0.0026 - val_loss: 0.0969\n",
      "Epoch 9/50\n",
      "6/6 [==============================] - 0s 8ms/step - loss: 0.0024 - val_loss: 0.0907\n",
      "Epoch 10/50\n",
      "6/6 [==============================] - 0s 12ms/step - loss: 0.0024 - val_loss: 0.0868\n",
      "Epoch 11/50\n",
      "6/6 [==============================] - 0s 9ms/step - loss: 0.0024 - val_loss: 0.0847\n",
      "Epoch 12/50\n",
      "6/6 [==============================] - 0s 11ms/step - loss: 0.0024 - val_loss: 0.0841\n",
      "Epoch 13/50\n",
      "6/6 [==============================] - 0s 8ms/step - loss: 0.0023 - val_loss: 0.0838\n",
      "Epoch 14/50\n",
      "6/6 [==============================] - 0s 9ms/step - loss: 0.0023 - val_loss: 0.0837\n",
      "Epoch 15/50\n",
      "6/6 [==============================] - 0s 8ms/step - loss: 0.0022 - val_loss: 0.0833\n",
      "Epoch 16/50\n",
      "6/6 [==============================] - 0s 9ms/step - loss: 0.0022 - val_loss: 0.0822\n",
      "Epoch 17/50\n",
      "6/6 [==============================] - 0s 11ms/step - loss: 0.0022 - val_loss: 0.0806\n",
      "Epoch 18/50\n",
      "6/6 [==============================] - 0s 8ms/step - loss: 0.0021 - val_loss: 0.0791\n",
      "Epoch 19/50\n",
      "6/6 [==============================] - 0s 8ms/step - loss: 0.0021 - val_loss: 0.0773\n",
      "Epoch 20/50\n",
      "6/6 [==============================] - 0s 10ms/step - loss: 0.0020 - val_loss: 0.0753\n",
      "Epoch 21/50\n",
      "6/6 [==============================] - 0s 12ms/step - loss: 0.0020 - val_loss: 0.0730\n",
      "Epoch 22/50\n",
      "6/6 [==============================] - 0s 8ms/step - loss: 0.0020 - val_loss: 0.0711\n",
      "Epoch 23/50\n",
      "6/6 [==============================] - 0s 8ms/step - loss: 0.0019 - val_loss: 0.0694\n",
      "Epoch 24/50\n",
      "6/6 [==============================] - 0s 8ms/step - loss: 0.0019 - val_loss: 0.0677\n",
      "Epoch 25/50\n",
      "6/6 [==============================] - 0s 8ms/step - loss: 0.0018 - val_loss: 0.0658\n",
      "Epoch 26/50\n",
      "6/6 [==============================] - 0s 8ms/step - loss: 0.0018 - val_loss: 0.0638\n",
      "Epoch 27/50\n",
      "6/6 [==============================] - 0s 9ms/step - loss: 0.0017 - val_loss: 0.0618\n",
      "Epoch 28/50\n",
      "6/6 [==============================] - 0s 8ms/step - loss: 0.0017 - val_loss: 0.0599\n",
      "Epoch 29/50\n",
      "6/6 [==============================] - 0s 8ms/step - loss: 0.0017 - val_loss: 0.0581\n",
      "Epoch 30/50\n",
      "6/6 [==============================] - 0s 8ms/step - loss: 0.0016 - val_loss: 0.0567\n",
      "Epoch 31/50\n",
      "6/6 [==============================] - 0s 8ms/step - loss: 0.0016 - val_loss: 0.0553\n",
      "Epoch 32/50\n",
      "6/6 [==============================] - 0s 12ms/step - loss: 0.0015 - val_loss: 0.0534\n",
      "Epoch 33/50\n",
      "6/6 [==============================] - 0s 9ms/step - loss: 0.0015 - val_loss: 0.0509\n",
      "Epoch 34/50\n",
      "6/6 [==============================] - 0s 11ms/step - loss: 0.0014 - val_loss: 0.0484\n",
      "Epoch 35/50\n",
      "6/6 [==============================] - 0s 12ms/step - loss: 0.0014 - val_loss: 0.0461\n",
      "Epoch 36/50\n",
      "6/6 [==============================] - 0s 10ms/step - loss: 0.0013 - val_loss: 0.0443\n",
      "Epoch 37/50\n",
      "6/6 [==============================] - 0s 9ms/step - loss: 0.0013 - val_loss: 0.0425\n",
      "Epoch 38/50\n",
      "6/6 [==============================] - 0s 10ms/step - loss: 0.0013 - val_loss: 0.0408\n",
      "Epoch 39/50\n",
      "6/6 [==============================] - 0s 13ms/step - loss: 0.0012 - val_loss: 0.0389\n",
      "Epoch 40/50\n",
      "6/6 [==============================] - 0s 10ms/step - loss: 0.0012 - val_loss: 0.0371\n",
      "Epoch 41/50\n",
      "6/6 [==============================] - 0s 10ms/step - loss: 0.0011 - val_loss: 0.0353\n",
      "Epoch 42/50\n",
      "6/6 [==============================] - 0s 9ms/step - loss: 0.0011 - val_loss: 0.0333\n",
      "Epoch 43/50\n",
      "6/6 [==============================] - 0s 12ms/step - loss: 0.0010 - val_loss: 0.0310\n",
      "Epoch 44/50\n",
      "6/6 [==============================] - 0s 10ms/step - loss: 9.7607e-04 - val_loss: 0.0289\n",
      "Epoch 45/50\n",
      "6/6 [==============================] - 0s 8ms/step - loss: 9.2861e-04 - val_loss: 0.0274\n",
      "Epoch 46/50\n",
      "6/6 [==============================] - 0s 9ms/step - loss: 8.8392e-04 - val_loss: 0.0258\n",
      "Epoch 47/50\n",
      "6/6 [==============================] - 0s 8ms/step - loss: 8.3999e-04 - val_loss: 0.0238\n",
      "Epoch 48/50\n",
      "6/6 [==============================] - 0s 9ms/step - loss: 7.9567e-04 - val_loss: 0.0222\n",
      "Epoch 49/50\n",
      "6/6 [==============================] - 0s 9ms/step - loss: 7.5407e-04 - val_loss: 0.0207\n",
      "Epoch 50/50\n",
      "6/6 [==============================] - 0s 13ms/step - loss: 7.1356e-04 - val_loss: 0.0192\n"
     ]
    }
   ],
   "source": [
    "model.compile(loss='mean_squared_error', optimizer='adam')\n",
    "history = model.fit(trainX, trainY, \n",
    "                    validation_data=(testX, testY),\n",
    "                    epochs=50,\n",
    "                    batch_size=128,\n",
    "                    callbacks=early_stopping,\n",
    "                    )"
   ]
  },
  {
   "cell_type": "code",
   "execution_count": null,
   "metadata": {
    "colab": {
     "base_uri": "https://localhost:8080/",
     "height": 204
    },
    "executionInfo": {
     "elapsed": 485,
     "status": "ok",
     "timestamp": 1636793809849,
     "user": {
      "displayName": "Phuong Dam",
      "photoUrl": "https://lh3.googleusercontent.com/a/default-user=s64",
      "userId": "01072403895711103873"
     },
     "user_tz": -420
    },
    "id": "4O2W969tgxpu",
    "outputId": "43e43c98-c3b9-40e6-d93d-a09df2eef1b0"
   },
   "outputs": [
    {
     "data": {
      "text/html": [
       "<div>\n",
       "<style scoped>\n",
       "    .dataframe tbody tr th:only-of-type {\n",
       "        vertical-align: middle;\n",
       "    }\n",
       "\n",
       "    .dataframe tbody tr th {\n",
       "        vertical-align: top;\n",
       "    }\n",
       "\n",
       "    .dataframe thead th {\n",
       "        text-align: right;\n",
       "    }\n",
       "</style>\n",
       "<table border=\"1\" class=\"dataframe\">\n",
       "  <thead>\n",
       "    <tr style=\"text-align: right;\">\n",
       "      <th></th>\n",
       "      <th>loss</th>\n",
       "      <th>val_loss</th>\n",
       "    </tr>\n",
       "  </thead>\n",
       "  <tbody>\n",
       "    <tr>\n",
       "      <th>45</th>\n",
       "      <td>0.000884</td>\n",
       "      <td>0.025805</td>\n",
       "    </tr>\n",
       "    <tr>\n",
       "      <th>46</th>\n",
       "      <td>0.000840</td>\n",
       "      <td>0.023842</td>\n",
       "    </tr>\n",
       "    <tr>\n",
       "      <th>47</th>\n",
       "      <td>0.000796</td>\n",
       "      <td>0.022187</td>\n",
       "    </tr>\n",
       "    <tr>\n",
       "      <th>48</th>\n",
       "      <td>0.000754</td>\n",
       "      <td>0.020701</td>\n",
       "    </tr>\n",
       "    <tr>\n",
       "      <th>49</th>\n",
       "      <td>0.000714</td>\n",
       "      <td>0.019199</td>\n",
       "    </tr>\n",
       "  </tbody>\n",
       "</table>\n",
       "</div>"
      ],
      "text/plain": [
       "        loss  val_loss\n",
       "45  0.000884  0.025805\n",
       "46  0.000840  0.023842\n",
       "47  0.000796  0.022187\n",
       "48  0.000754  0.020701\n",
       "49  0.000714  0.019199"
      ]
     },
     "execution_count": 19,
     "metadata": {},
     "output_type": "execute_result"
    }
   ],
   "source": [
    "history_df = pd.DataFrame(history.history)\n",
    "history_df.tail()"
   ]
  },
  {
   "cell_type": "code",
   "execution_count": null,
   "metadata": {
    "colab": {
     "base_uri": "https://localhost:8080/",
     "height": 265
    },
    "executionInfo": {
     "elapsed": 702,
     "status": "ok",
     "timestamp": 1636793819163,
     "user": {
      "displayName": "Phuong Dam",
      "photoUrl": "https://lh3.googleusercontent.com/a/default-user=s64",
      "userId": "01072403895711103873"
     },
     "user_tz": -420
    },
    "id": "quzVVIRZ0IAR",
    "outputId": "6d53313e-8d39-4f66-eaa7-a8fbd07ffb31"
   },
   "outputs": [
    {
     "data": {
      "image/png": "[encoded data removed]",
      "text/plain": [
       "<Figure size 432x288 with 1 Axes>"
      ]
     },
     "metadata": {
      "needs_background": "light"
     },
     "output_type": "display_data"
    }
   ],
   "source": [
    "# plot history \n",
    "plt.plot(history.history['loss'], label='train') \n",
    "plt.plot(history.history['val_loss'], label='test') \n",
    "plt.legend() \n",
    "plt.show()"
   ]
  },
  {
   "cell_type": "markdown",
   "metadata": {
    "id": "6KWD4wd6jNDv"
   },
   "source": [
    "### 2.2 Model 2"
   ]
  },
  {
   "cell_type": "code",
   "execution_count": null,
   "metadata": {
    "id": "eoSCiZxChDuz"
   },
   "outputs": [],
   "source": [
    "model2 = Sequential()\n",
    "model2.add(LSTM(64, input_shape=(1,look_back)))  \n",
    "model2.add(Dense(1))"
   ]
  },
  {
   "cell_type": "code",
   "execution_count": null,
   "metadata": {
    "colab": {
     "base_uri": "https://localhost:8080/"
    },
    "executionInfo": {
     "elapsed": 6,
     "status": "ok",
     "timestamp": 1636793978370,
     "user": {
      "displayName": "Phuong Dam",
      "photoUrl": "https://lh3.googleusercontent.com/a/default-user=s64",
      "userId": "01072403895711103873"
     },
     "user_tz": -420
    },
    "id": "aQ6LoV9JhDsV",
    "outputId": "6e5a6334-adc7-40bd-d763-b09b7834e85e"
   },
   "outputs": [
    {
     "name": "stdout",
     "output_type": "stream",
     "text": [
      "Model: \"sequential_1\"\n",
      "_________________________________________________________________\n",
      " Layer (type)                Output Shape              Param #   \n",
      "=================================================================\n",
      " lstm_1 (LSTM)               (None, 64)                16896     \n",
      "                                                                 \n",
      " dense_1 (Dense)             (None, 1)                 65        \n",
      "                                                                 \n",
      "=================================================================\n",
      "Total params: 16,961\n",
      "Trainable params: 16,961\n",
      "Non-trainable params: 0\n",
      "_________________________________________________________________\n"
     ]
    }
   ],
   "source": [
    "model2.summary()"
   ]
  },
  {
   "cell_type": "code",
   "execution_count": null,
   "metadata": {
    "colab": {
     "base_uri": "https://localhost:8080/",
     "height": 312
    },
    "executionInfo": {
     "elapsed": 744,
     "status": "ok",
     "timestamp": 1636795739456,
     "user": {
      "displayName": "Phuong Dam",
      "photoUrl": "https://lh3.googleusercontent.com/a/default-user=s64",
      "userId": "01072403895711103873"
     },
     "user_tz": -420
    },
    "id": "v7o1tt4vjnoc",
    "outputId": "e729bafd-deca-42ff-84df-354157f2b028"
   },
   "outputs": [
    {
     "data": {
      "image/png": "[encoded data removed]",
      "text/plain": [
       "<IPython.core.display.Image object>"
      ]
     },
     "execution_count": 60,
     "metadata": {},
     "output_type": "execute_result"
    }
   ],
   "source": [
    "from tensorflow.keras.utils import plot_model\n",
    "from IPython.display import Image\n",
    "plot_model(model2, to_file='AAPL_one_to_one_model2.png', show_shapes=True)\n",
    "Image(filename='AAPL_one_to_one_model2.png')"
   ]
  },
  {
   "cell_type": "code",
   "execution_count": null,
   "metadata": {
    "collapsed": true,
    "id": "fmpARu2bhDp2"
   },
   "outputs": [],
   "source": [
    "model2.compile(loss='mean_squared_error', optimizer='adam')\n",
    "history2 = model2.fit(trainX, trainY, \n",
    "                    validation_data=(testX, testY),\n",
    "                    epochs=50,\n",
    "                    batch_size=1,\n",
    "                    callbacks=early_stopping,\n",
    "                    verbose=0\n",
    "                    )"
   ]
  },
  {
   "cell_type": "code",
   "execution_count": null,
   "metadata": {
    "colab": {
     "base_uri": "https://localhost:8080/",
     "height": 204
    },
    "executionInfo": {
     "elapsed": 20,
     "status": "ok",
     "timestamp": 1636794259594,
     "user": {
      "displayName": "Phuong Dam",
      "photoUrl": "https://lh3.googleusercontent.com/a/default-user=s64",
      "userId": "01072403895711103873"
     },
     "user_tz": -420
    },
    "id": "hsGjhq_qhzH5",
    "outputId": "38c92b9d-76f9-488a-cb59-2ae07b5068b1"
   },
   "outputs": [
    {
     "data": {
      "text/html": [
       "<div>\n",
       "<style scoped>\n",
       "    .dataframe tbody tr th:only-of-type {\n",
       "        vertical-align: middle;\n",
       "    }\n",
       "\n",
       "    .dataframe tbody tr th {\n",
       "        vertical-align: top;\n",
       "    }\n",
       "\n",
       "    .dataframe thead th {\n",
       "        text-align: right;\n",
       "    }\n",
       "</style>\n",
       "<table border=\"1\" class=\"dataframe\">\n",
       "  <thead>\n",
       "    <tr style=\"text-align: right;\">\n",
       "      <th></th>\n",
       "      <th>loss</th>\n",
       "      <th>val_loss</th>\n",
       "    </tr>\n",
       "  </thead>\n",
       "  <tbody>\n",
       "    <tr>\n",
       "      <th>18</th>\n",
       "      <td>0.000050</td>\n",
       "      <td>0.000807</td>\n",
       "    </tr>\n",
       "    <tr>\n",
       "      <th>19</th>\n",
       "      <td>0.000048</td>\n",
       "      <td>0.000643</td>\n",
       "    </tr>\n",
       "    <tr>\n",
       "      <th>20</th>\n",
       "      <td>0.000050</td>\n",
       "      <td>0.000711</td>\n",
       "    </tr>\n",
       "    <tr>\n",
       "      <th>21</th>\n",
       "      <td>0.000047</td>\n",
       "      <td>0.000664</td>\n",
       "    </tr>\n",
       "    <tr>\n",
       "      <th>22</th>\n",
       "      <td>0.000051</td>\n",
       "      <td>0.000452</td>\n",
       "    </tr>\n",
       "  </tbody>\n",
       "</table>\n",
       "</div>"
      ],
      "text/plain": [
       "        loss  val_loss\n",
       "18  0.000050  0.000807\n",
       "19  0.000048  0.000643\n",
       "20  0.000050  0.000711\n",
       "21  0.000047  0.000664\n",
       "22  0.000051  0.000452"
      ]
     },
     "execution_count": 46,
     "metadata": {},
     "output_type": "execute_result"
    }
   ],
   "source": [
    "history2_df = pd.DataFrame(history2.history)\n",
    "history2_df.tail()"
   ]
  },
  {
   "cell_type": "code",
   "execution_count": null,
   "metadata": {
    "colab": {
     "base_uri": "https://localhost:8080/",
     "height": 265
    },
    "executionInfo": {
     "elapsed": 40633,
     "status": "ok",
     "timestamp": 1636794300218,
     "user": {
      "displayName": "Phuong Dam",
      "photoUrl": "https://lh3.googleusercontent.com/a/default-user=s64",
      "userId": "01072403895711103873"
     },
     "user_tz": -420
    },
    "id": "IyRGRDJghDnc",
    "outputId": "c5b30ba4-97d4-4695-dd0d-9dd758c3a2f6"
   },
   "outputs": [
    {
     "data": {
      "image/png": "[encoded data removed]",
      "text/plain": [
       "<Figure size 432x288 with 1 Axes>"
      ]
     },
     "metadata": {
      "needs_background": "light"
     },
     "output_type": "display_data"
    }
   ],
   "source": [
    "# plot history \n",
    "plt.plot(history2.history['loss'], label='train') \n",
    "plt.plot(history2.history['val_loss'], label='test') \n",
    "plt.legend() \n",
    "plt.show()"
   ]
  },
  {
   "cell_type": "markdown",
   "metadata": {
    "id": "pGBVDZHTjwRO"
   },
   "source": [
    "### Nhận xét:\n",
    "- Model2 cho loss & val_loss thấp hơn Model 1 nên chọn để Predict"
   ]
  },
  {
   "cell_type": "markdown",
   "metadata": {
    "id": "45VC0HeFi5YO"
   },
   "source": [
    "# 3. Evaluate & Prediction"
   ]
  },
  {
   "cell_type": "code",
   "execution_count": null,
   "metadata": {
    "id": "SopU4oi00M6b"
   },
   "outputs": [],
   "source": [
    "#make prediction\n",
    "trainPredict = model2.predict(trainX)\n",
    "testPredict = model2.predict(testX)"
   ]
  },
  {
   "cell_type": "code",
   "execution_count": null,
   "metadata": {
    "colab": {
     "base_uri": "https://localhost:8080/"
    },
    "executionInfo": {
     "elapsed": 8,
     "status": "ok",
     "timestamp": 1636794362467,
     "user": {
      "displayName": "Phuong Dam",
      "photoUrl": "https://lh3.googleusercontent.com/a/default-user=s64",
      "userId": "01072403895711103873"
     },
     "user_tz": -420
    },
    "id": "e50zSUlF1ORC",
    "outputId": "3e065123-4271-4316-d9bc-5a718286faed"
   },
   "outputs": [
    {
     "data": {
      "text/plain": [
       "array([[0.00598486],\n",
       "       [0.00352421],\n",
       "       [0.00380474],\n",
       "       [0.01052096],\n",
       "       [0.01032648]], dtype=float32)"
      ]
     },
     "execution_count": 49,
     "metadata": {},
     "output_type": "execute_result"
    }
   ],
   "source": [
    "trainPredict[:5]"
   ]
  },
  {
   "cell_type": "code",
   "execution_count": null,
   "metadata": {
    "id": "iKtkvSfY03Om"
   },
   "outputs": [],
   "source": [
    "# invert predictions\n",
    "trainPredict = scaler.inverse_transform(trainPredict)\n",
    "trainY = scaler.inverse_transform([trainY])\n",
    "\n",
    "testPredict = scaler.inverse_transform(testPredict)\n",
    "testY = scaler.inverse_transform([testY])"
   ]
  },
  {
   "cell_type": "code",
   "execution_count": null,
   "metadata": {
    "colab": {
     "base_uri": "https://localhost:8080/"
    },
    "executionInfo": {
     "elapsed": 9,
     "status": "ok",
     "timestamp": 1636794368399,
     "user": {
      "displayName": "Phuong Dam",
      "photoUrl": "https://lh3.googleusercontent.com/a/default-user=s64",
      "userId": "01072403895711103873"
     },
     "user_tz": -420
    },
    "id": "-9x98oX50rZh",
    "outputId": "0dacb724-988a-4d59-af92-5adc2145d3b2"
   },
   "outputs": [
    {
     "data": {
      "text/plain": [
       "array([26.64249951, 26.67499903, 27.45249934, 27.43000031, 27.53000022])"
      ]
     },
     "execution_count": 51,
     "metadata": {},
     "output_type": "execute_result"
    }
   ],
   "source": [
    "trainY[0][:5]"
   ]
  },
  {
   "cell_type": "code",
   "execution_count": null,
   "metadata": {
    "colab": {
     "base_uri": "https://localhost:8080/"
    },
    "executionInfo": {
     "elapsed": 4,
     "status": "ok",
     "timestamp": 1636794368833,
     "user": {
      "displayName": "Phuong Dam",
      "photoUrl": "https://lh3.googleusercontent.com/a/default-user=s64",
      "userId": "01072403895711103873"
     },
     "user_tz": -420
    },
    "id": "HaIeb_rO0umg",
    "outputId": "c21a85a3-32a1-4894-decc-7ac65ff03ae1"
   },
   "outputs": [
    {
     "data": {
      "text/plain": [
       "array([[27.306505],\n",
       "       [27.033503],\n",
       "       [27.064627],\n",
       "       [27.809774],\n",
       "       [27.788197]], dtype=float32)"
      ]
     },
     "execution_count": 52,
     "metadata": {},
     "output_type": "execute_result"
    }
   ],
   "source": [
    "trainPredict[:5]"
   ]
  },
  {
   "cell_type": "code",
   "execution_count": null,
   "metadata": {
    "colab": {
     "base_uri": "https://localhost:8080/"
    },
    "executionInfo": {
     "elapsed": 578,
     "status": "ok",
     "timestamp": 1636794378087,
     "user": {
      "displayName": "Phuong Dam",
      "photoUrl": "https://lh3.googleusercontent.com/a/default-user=s64",
      "userId": "01072403895711103873"
     },
     "user_tz": -420
    },
    "id": "JPoHHarL0z-c",
    "outputId": "0dedd798-4b1d-40af-c5a9-677a39eac6b6"
   },
   "outputs": [
    {
     "name": "stdout",
     "output_type": "stream",
     "text": [
      "Train RMSE: 0.67 RMSE\n",
      "Test RMSE: 2.44 RMSE\n"
     ]
    }
   ],
   "source": [
    "#calculate rmse\n",
    "train_mse = math.sqrt(mean_squared_error(trainY[0], trainPredict[:,0]))\n",
    "print('Train RMSE: %.2f RMSE' %(train_mse))\n",
    "test_mse = math.sqrt(mean_squared_error(testY[0], testPredict[:,0]))\n",
    "print('Test RMSE: %.2f RMSE' %(test_mse))"
   ]
  },
  {
   "cell_type": "code",
   "execution_count": null,
   "metadata": {
    "colab": {
     "base_uri": "https://localhost:8080/"
    },
    "executionInfo": {
     "elapsed": 650,
     "status": "ok",
     "timestamp": 1636794383869,
     "user": {
      "displayName": "Phuong Dam",
      "photoUrl": "https://lh3.googleusercontent.com/a/default-user=s64",
      "userId": "01072403895711103873"
     },
     "user_tz": -420
    },
    "id": "yH4Om2ni3Z8N",
    "outputId": "ae0d865d-d698-4922-a77e-96924c6a6fcf"
   },
   "outputs": [
    {
     "name": "stdout",
     "output_type": "stream",
     "text": [
      "Train MAE: 0.47 MAE\n",
      "Test MAE: 1.60 MAE\n"
     ]
    }
   ],
   "source": [
    "train_mae = mean_absolute_error(trainY[0], trainPredict[:,0])\n",
    "print('Train MAE: %.2f MAE' %(train_mae))\n",
    "test_mae = mean_absolute_error(testY[0], testPredict[:,0])\n",
    "print('Test MAE: %.2f MAE' %(test_mae))"
   ]
  },
  {
   "cell_type": "markdown",
   "metadata": {
    "id": "pFHHpeNiRB7U"
   },
   "source": [
    "### Nhận xét:\n",
    "- sai số (RMSE, MAE) trên cả train và test đều rất nhỏ => mô hình phù hợp\n"
   ]
  },
  {
   "cell_type": "code",
   "execution_count": null,
   "metadata": {
    "id": "QpSqSr_13vVh"
   },
   "outputs": [],
   "source": [
    "# shift train predictions for plotting \n",
    "trainPredictPlot = numpy.empty_like(dataset) \n",
    "trainPredictPlot[:, :] = numpy.nan \n",
    "trainPredictPlot[look_back:len(trainPredict)+look_back, :] = trainPredict \n",
    "# shift test predictions for plotting \n",
    "testPredictPlot = numpy.empty_like(dataset) \n",
    "testPredictPlot[:, :] = numpy.nan \n",
    "testPredictPlot[len(trainPredict)+(look_back*2)+1:len(dataset)-1, :] = testPredict"
   ]
  },
  {
   "cell_type": "code",
   "execution_count": null,
   "metadata": {
    "colab": {
     "base_uri": "https://localhost:8080/",
     "height": 374
    },
    "executionInfo": {
     "elapsed": 789,
     "status": "ok",
     "timestamp": 1636794664064,
     "user": {
      "displayName": "Phuong Dam",
      "photoUrl": "https://lh3.googleusercontent.com/a/default-user=s64",
      "userId": "01072403895711103873"
     },
     "user_tz": -420
    },
    "id": "TXQQ48AS5iCn",
    "outputId": "4e429bb3-76a6-45f3-888a-9c229c7e3c93"
   },
   "outputs": [
    {
     "data": {
      "image/png": "[encoded data removed]",
      "text/plain": [
       "<Figure size 720x432 with 1 Axes>"
      ]
     },
     "metadata": {
      "needs_background": "light"
     },
     "output_type": "display_data"
    }
   ],
   "source": [
    "# plot baseline and predictions \n",
    "plt.figure(figsize=(10,6)) \n",
    "plt.plot(scaler.inverse_transform(dataset), label='Real Data') \n",
    "plt.plot(trainPredictPlot, label='trainPredict') \n",
    "plt.plot(testPredictPlot, label='testPredict') \n",
    "plt.legend(title=\"Notes\") \n",
    "plt.show()"
   ]
  },
  {
   "cell_type": "code",
   "execution_count": null,
   "metadata": {
    "id": "5Wbw40nW7RQl"
   },
   "outputs": [],
   "source": [
    "# Save the result\n",
    "model2.save('AAPL_one_to_one.h5')"
   ]
  }
 ],
 "metadata": {
  "colab": {
   "authorship_tag": "ABX9TyM3NJLUS3cxS9scLVOv0qRp",
   "collapsed_sections": [
    "fu8jGYCJQGZp",
    "-73W9OHHQrdi",
    "7VpR2OnBjJ84",
    "6KWD4wd6jNDv",
    "45VC0HeFi5YO"
   ],
   "name": "AAPL_one_to_one.ipynb",
   "provenance": []
  },
  "kernelspec": {
   "display_name": "Python 3 (ipykernel)",
   "language": "python",
   "name": "python3"
  },
  "language_info": {
   "codemirror_mode": {
    "name": "ipython",
    "version": 3
   },
   "file_extension": ".py",
   "mimetype": "text/x-python",
   "name": "python",
   "nbconvert_exporter": "python",
   "pygments_lexer": "ipython3",
   "version": "3.8.12"
  }
 },
 "nbformat": 4,
 "nbformat_minor": 1
}
